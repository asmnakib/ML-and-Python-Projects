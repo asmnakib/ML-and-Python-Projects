{
 "cells": [
  {
   "cell_type": "code",
   "execution_count": 91,
   "outputs": [],
   "source": [
    "import math\n",
    "import pandas as pd\n"
   ],
   "metadata": {
    "collapsed": false,
    "pycharm": {
     "name": "#%%\n"
    }
   }
  },
  {
   "cell_type": "code",
   "execution_count": 92,
   "outputs": [],
   "source": [
    "data = pd.read_excel('Multiple Server Finite Queue Length Infinite Queue Population Model Data Set.xlsx')"
   ],
   "metadata": {
    "collapsed": false,
    "pycharm": {
     "name": "#%%\n"
    }
   }
  },
  {
   "cell_type": "code",
   "execution_count": 93,
   "outputs": [
    {
     "data": {
      "text/plain": "    lamda  miu  c  P0  Ls  lamda k  Lq  Ws  Wq       row  row by c\n0      13    9  2 NaN NaN      NaN NaN NaN NaN  1.444444  0.722222\n1      14   10  2 NaN NaN      NaN NaN NaN NaN  1.400000  0.700000\n2      15   11  2 NaN NaN      NaN NaN NaN NaN  1.363636  0.681818\n3      16   12  2 NaN NaN      NaN NaN NaN NaN  1.333333  0.666667\n4      12    8  2 NaN NaN      NaN NaN NaN NaN  1.500000  0.750000\n5      11    7  2 NaN NaN      NaN NaN NaN NaN  1.571429  0.785714\n6      10    6  2 NaN NaN      NaN NaN NaN NaN  1.666667  0.833333\n7       9    5  2 NaN NaN      NaN NaN NaN NaN  1.800000  0.900000\n8      10    6  3 NaN NaN      NaN NaN NaN NaN  1.666667  0.555556\n9      10    6  4 NaN NaN      NaN NaN NaN NaN  1.666667  0.416667\n10     10    6  5 NaN NaN      NaN NaN NaN NaN  1.666667  0.333333\n11     10    6  6 NaN NaN      NaN NaN NaN NaN  1.666667  0.277778\n12     10    6  3 NaN NaN      NaN NaN NaN NaN  1.666667  0.555556\n13     11    7  4 NaN NaN      NaN NaN NaN NaN  1.571429  0.392857\n14     12    8  5 NaN NaN      NaN NaN NaN NaN  1.500000  0.300000\n15     13    9  6 NaN NaN      NaN NaN NaN NaN  1.444444  0.240741",
      "text/html": "<div>\n<style scoped>\n    .dataframe tbody tr th:only-of-type {\n        vertical-align: middle;\n    }\n\n    .dataframe tbody tr th {\n        vertical-align: top;\n    }\n\n    .dataframe thead th {\n        text-align: right;\n    }\n</style>\n<table border=\"1\" class=\"dataframe\">\n  <thead>\n    <tr style=\"text-align: right;\">\n      <th></th>\n      <th>lamda</th>\n      <th>miu</th>\n      <th>c</th>\n      <th>P0</th>\n      <th>Ls</th>\n      <th>lamda k</th>\n      <th>Lq</th>\n      <th>Ws</th>\n      <th>Wq</th>\n      <th>row</th>\n      <th>row by c</th>\n    </tr>\n  </thead>\n  <tbody>\n    <tr>\n      <th>0</th>\n      <td>13</td>\n      <td>9</td>\n      <td>2</td>\n      <td>NaN</td>\n      <td>NaN</td>\n      <td>NaN</td>\n      <td>NaN</td>\n      <td>NaN</td>\n      <td>NaN</td>\n      <td>1.444444</td>\n      <td>0.722222</td>\n    </tr>\n    <tr>\n      <th>1</th>\n      <td>14</td>\n      <td>10</td>\n      <td>2</td>\n      <td>NaN</td>\n      <td>NaN</td>\n      <td>NaN</td>\n      <td>NaN</td>\n      <td>NaN</td>\n      <td>NaN</td>\n      <td>1.400000</td>\n      <td>0.700000</td>\n    </tr>\n    <tr>\n      <th>2</th>\n      <td>15</td>\n      <td>11</td>\n      <td>2</td>\n      <td>NaN</td>\n      <td>NaN</td>\n      <td>NaN</td>\n      <td>NaN</td>\n      <td>NaN</td>\n      <td>NaN</td>\n      <td>1.363636</td>\n      <td>0.681818</td>\n    </tr>\n    <tr>\n      <th>3</th>\n      <td>16</td>\n      <td>12</td>\n      <td>2</td>\n      <td>NaN</td>\n      <td>NaN</td>\n      <td>NaN</td>\n      <td>NaN</td>\n      <td>NaN</td>\n      <td>NaN</td>\n      <td>1.333333</td>\n      <td>0.666667</td>\n    </tr>\n    <tr>\n      <th>4</th>\n      <td>12</td>\n      <td>8</td>\n      <td>2</td>\n      <td>NaN</td>\n      <td>NaN</td>\n      <td>NaN</td>\n      <td>NaN</td>\n      <td>NaN</td>\n      <td>NaN</td>\n      <td>1.500000</td>\n      <td>0.750000</td>\n    </tr>\n    <tr>\n      <th>5</th>\n      <td>11</td>\n      <td>7</td>\n      <td>2</td>\n      <td>NaN</td>\n      <td>NaN</td>\n      <td>NaN</td>\n      <td>NaN</td>\n      <td>NaN</td>\n      <td>NaN</td>\n      <td>1.571429</td>\n      <td>0.785714</td>\n    </tr>\n    <tr>\n      <th>6</th>\n      <td>10</td>\n      <td>6</td>\n      <td>2</td>\n      <td>NaN</td>\n      <td>NaN</td>\n      <td>NaN</td>\n      <td>NaN</td>\n      <td>NaN</td>\n      <td>NaN</td>\n      <td>1.666667</td>\n      <td>0.833333</td>\n    </tr>\n    <tr>\n      <th>7</th>\n      <td>9</td>\n      <td>5</td>\n      <td>2</td>\n      <td>NaN</td>\n      <td>NaN</td>\n      <td>NaN</td>\n      <td>NaN</td>\n      <td>NaN</td>\n      <td>NaN</td>\n      <td>1.800000</td>\n      <td>0.900000</td>\n    </tr>\n    <tr>\n      <th>8</th>\n      <td>10</td>\n      <td>6</td>\n      <td>3</td>\n      <td>NaN</td>\n      <td>NaN</td>\n      <td>NaN</td>\n      <td>NaN</td>\n      <td>NaN</td>\n      <td>NaN</td>\n      <td>1.666667</td>\n      <td>0.555556</td>\n    </tr>\n    <tr>\n      <th>9</th>\n      <td>10</td>\n      <td>6</td>\n      <td>4</td>\n      <td>NaN</td>\n      <td>NaN</td>\n      <td>NaN</td>\n      <td>NaN</td>\n      <td>NaN</td>\n      <td>NaN</td>\n      <td>1.666667</td>\n      <td>0.416667</td>\n    </tr>\n    <tr>\n      <th>10</th>\n      <td>10</td>\n      <td>6</td>\n      <td>5</td>\n      <td>NaN</td>\n      <td>NaN</td>\n      <td>NaN</td>\n      <td>NaN</td>\n      <td>NaN</td>\n      <td>NaN</td>\n      <td>1.666667</td>\n      <td>0.333333</td>\n    </tr>\n    <tr>\n      <th>11</th>\n      <td>10</td>\n      <td>6</td>\n      <td>6</td>\n      <td>NaN</td>\n      <td>NaN</td>\n      <td>NaN</td>\n      <td>NaN</td>\n      <td>NaN</td>\n      <td>NaN</td>\n      <td>1.666667</td>\n      <td>0.277778</td>\n    </tr>\n    <tr>\n      <th>12</th>\n      <td>10</td>\n      <td>6</td>\n      <td>3</td>\n      <td>NaN</td>\n      <td>NaN</td>\n      <td>NaN</td>\n      <td>NaN</td>\n      <td>NaN</td>\n      <td>NaN</td>\n      <td>1.666667</td>\n      <td>0.555556</td>\n    </tr>\n    <tr>\n      <th>13</th>\n      <td>11</td>\n      <td>7</td>\n      <td>4</td>\n      <td>NaN</td>\n      <td>NaN</td>\n      <td>NaN</td>\n      <td>NaN</td>\n      <td>NaN</td>\n      <td>NaN</td>\n      <td>1.571429</td>\n      <td>0.392857</td>\n    </tr>\n    <tr>\n      <th>14</th>\n      <td>12</td>\n      <td>8</td>\n      <td>5</td>\n      <td>NaN</td>\n      <td>NaN</td>\n      <td>NaN</td>\n      <td>NaN</td>\n      <td>NaN</td>\n      <td>NaN</td>\n      <td>1.500000</td>\n      <td>0.300000</td>\n    </tr>\n    <tr>\n      <th>15</th>\n      <td>13</td>\n      <td>9</td>\n      <td>6</td>\n      <td>NaN</td>\n      <td>NaN</td>\n      <td>NaN</td>\n      <td>NaN</td>\n      <td>NaN</td>\n      <td>NaN</td>\n      <td>1.444444</td>\n      <td>0.240741</td>\n    </tr>\n  </tbody>\n</table>\n</div>"
     },
     "execution_count": 93,
     "metadata": {},
     "output_type": "execute_result"
    }
   ],
   "source": [
    "data"
   ],
   "metadata": {
    "collapsed": false,
    "pycharm": {
     "name": "#%%\n"
    }
   }
  },
  {
   "cell_type": "code",
   "execution_count": 94,
   "outputs": [],
   "source": [
    "lammda = data['lamda']\n",
    "miiu = data['miu']\n",
    "cc= data['c']\n",
    "roow = data['row']\n",
    "roow_by_c = data['row by c']"
   ],
   "metadata": {
    "collapsed": false,
    "pycharm": {
     "name": "#%%\n"
    }
   }
  },
  {
   "cell_type": "code",
   "execution_count": 95,
   "outputs": [],
   "source": [
    "p = []\n",
    "lam =[]\n",
    "lq =[]\n",
    "ls = []\n",
    "wq = []\n",
    "ws = []\n",
    "\n",
    "for i in range(0,len(lammda)):\n",
    "    lamda = lammda[i]\n",
    "    miu = miiu[i]\n",
    "    c = cc[i]\n",
    "    row = lammda[i]/miiu[i]\n",
    "    row_by_c = row/c\n",
    "    sum = 0\n",
    "    l = 7 # value of N\n",
    "\n",
    "    for n in range(0,c):\n",
    "        f =math.factorial(n)\n",
    "        a =(row**n)/f\n",
    "        sum= sum+ a\n",
    "    second = ((row**c)/math.factorial(c))\n",
    "    third = ((1-((row_by_c)**(l-c+1)))/(1-row_by_c))\n",
    "    final = 1/(sum+second*third)\n",
    "    p.append(final)\n",
    "\n",
    "    # determining lq\n",
    "    lq_1 = ((row ** (c + 1)) * final) / ((math.factorial(c - 1)))\n",
    "    lq_2 = 1 - ((row_by_c)**(l-c+1)) -((l-c+1)*(1-row_by_c)*((row_by_c)**(l-c)))\n",
    "    lq_3 = (c - row)**2\n",
    "\n",
    "    lqq = lq_1*(lq_2/lq_3)\n",
    "    lq.append(lqq)\n",
    "\n",
    "\n",
    "    # determining lamda_k\n",
    "    p_n =(((row)**l)/((math.factorial(c))*(c**(l-c))))*final\n",
    "    lamda_k = lamda*(1-p_n)\n",
    "    lam.append(lamda_k)\n",
    "\n",
    "\n",
    "    # determining ls\n",
    "\n",
    "    lls = lqq+(lamda_k/miu)\n",
    "    ls.append(lls)\n",
    "\n",
    "\n",
    "    # determining Wq\n",
    "\n",
    "    wqq = (lqq / lamda_k)*60\n",
    "    wq.append(wqq)\n",
    "\n",
    "    # determining Ws\n",
    "\n",
    "    wss = (lls / lamda_k)*60\n",
    "    ws.append(wss)"
   ],
   "metadata": {
    "collapsed": false,
    "pycharm": {
     "name": "#%%\n"
    }
   }
  },
  {
   "cell_type": "code",
   "execution_count": 96,
   "outputs": [],
   "source": [
    "data['P0'] = p\n",
    "data['Lq'] = lq\n",
    "data['lamda k'] =lam\n",
    "data['Ls'] = ls\n",
    "data['Wq'] = wq\n",
    "data['Ws'] = ws"
   ],
   "metadata": {
    "collapsed": false,
    "pycharm": {
     "name": "#%%\n"
    }
   }
  },
  {
   "cell_type": "code",
   "execution_count": 97,
   "outputs": [
    {
     "data": {
      "text/plain": "   lamda  miu  c        P0        Ls    lamda k        Lq         Ws  \\\n0     13    9  2  0.176459  2.306420  12.529767  0.914224  11.044517   \n1     14   10  2  0.189310  2.193012  13.563467  0.836665   9.701112   \n2     15   11  2  0.200314  2.101661  14.588364  0.775446   8.643852   \n3     16   12  2  0.209824  2.026672  15.607023  0.726087   7.791384   \n4     12    8  2  0.161314  2.450367  11.483213  1.014966  12.803214   \n\n         Wq       row  row by c  \n0  4.377851  1.444444  0.722222  \n1  3.701112  1.400000  0.700000  \n2  3.189307  1.363636  0.681818  \n3  2.791384  1.333333  0.666667  \n4  5.303214  1.500000  0.750000  ",
      "text/html": "<div>\n<style scoped>\n    .dataframe tbody tr th:only-of-type {\n        vertical-align: middle;\n    }\n\n    .dataframe tbody tr th {\n        vertical-align: top;\n    }\n\n    .dataframe thead th {\n        text-align: right;\n    }\n</style>\n<table border=\"1\" class=\"dataframe\">\n  <thead>\n    <tr style=\"text-align: right;\">\n      <th></th>\n      <th>lamda</th>\n      <th>miu</th>\n      <th>c</th>\n      <th>P0</th>\n      <th>Ls</th>\n      <th>lamda k</th>\n      <th>Lq</th>\n      <th>Ws</th>\n      <th>Wq</th>\n      <th>row</th>\n      <th>row by c</th>\n    </tr>\n  </thead>\n  <tbody>\n    <tr>\n      <th>0</th>\n      <td>13</td>\n      <td>9</td>\n      <td>2</td>\n      <td>0.176459</td>\n      <td>2.306420</td>\n      <td>12.529767</td>\n      <td>0.914224</td>\n      <td>11.044517</td>\n      <td>4.377851</td>\n      <td>1.444444</td>\n      <td>0.722222</td>\n    </tr>\n    <tr>\n      <th>1</th>\n      <td>14</td>\n      <td>10</td>\n      <td>2</td>\n      <td>0.189310</td>\n      <td>2.193012</td>\n      <td>13.563467</td>\n      <td>0.836665</td>\n      <td>9.701112</td>\n      <td>3.701112</td>\n      <td>1.400000</td>\n      <td>0.700000</td>\n    </tr>\n    <tr>\n      <th>2</th>\n      <td>15</td>\n      <td>11</td>\n      <td>2</td>\n      <td>0.200314</td>\n      <td>2.101661</td>\n      <td>14.588364</td>\n      <td>0.775446</td>\n      <td>8.643852</td>\n      <td>3.189307</td>\n      <td>1.363636</td>\n      <td>0.681818</td>\n    </tr>\n    <tr>\n      <th>3</th>\n      <td>16</td>\n      <td>12</td>\n      <td>2</td>\n      <td>0.209824</td>\n      <td>2.026672</td>\n      <td>15.607023</td>\n      <td>0.726087</td>\n      <td>7.791384</td>\n      <td>2.791384</td>\n      <td>1.333333</td>\n      <td>0.666667</td>\n    </tr>\n    <tr>\n      <th>4</th>\n      <td>12</td>\n      <td>8</td>\n      <td>2</td>\n      <td>0.161314</td>\n      <td>2.450367</td>\n      <td>11.483213</td>\n      <td>1.014966</td>\n      <td>12.803214</td>\n      <td>5.303214</td>\n      <td>1.500000</td>\n      <td>0.750000</td>\n    </tr>\n  </tbody>\n</table>\n</div>"
     },
     "execution_count": 97,
     "metadata": {},
     "output_type": "execute_result"
    }
   ],
   "source": [
    "data.head()"
   ],
   "metadata": {
    "collapsed": false,
    "pycharm": {
     "name": "#%%\n"
    }
   }
  },
  {
   "cell_type": "code",
   "execution_count": 98,
   "outputs": [],
   "source": [
    "data.to_excel(\"Multiple Server Finite Queue Length Infinite Queue Population Model Output.xlsx\")"
   ],
   "metadata": {
    "collapsed": false,
    "pycharm": {
     "name": "#%%\n"
    }
   }
  },
  {
   "cell_type": "markdown",
   "source": [
    "## Validation"
   ],
   "metadata": {
    "collapsed": false,
    "pycharm": {
     "name": "#%% md\n"
    }
   }
  },
  {
   "cell_type": "markdown",
   "source": [
    "#### Inputs:\n",
    "\n",
    "    Enter the arrival rate of individuals/hour, (λ)\t10\n",
    "    Enter the service rate of the system/hour, (μ)\t6\n",
    "    Number of servers, (c)\t2\n",
    "\n",
    "#### Outputs\n",
    "\n",
    "    The probability of no person (P0)\t0.1218\n",
    "    The length of the system (Ls)\t2.89\n",
    "    Effective arrival rate (λ_k)\t9.32\n",
    "    The length of the queue (Lq)\t1.335\n",
    "    The waiting time in the system (Ws)\t18.61 minutes\n",
    "    The waiting time in the queue is  (Wq)\t8.59 minutes\n",
    "\n",
    "\n",
    "#### You can check the models results by running the next line\n",
    "\n"
   ],
   "metadata": {
    "collapsed": false,
    "pycharm": {
     "name": "#%% md\n"
    }
   }
  },
  {
   "cell_type": "code",
   "execution_count": 15,
   "outputs": [
    {
     "name": "stdout",
     "output_type": "stream",
     "text": [
      "The probability of no person (P0) 0.12181479395973793 or 12.181479395973794 % \n",
      "The length of the queue (Lq) : 1.3360263458607882 \n",
      "Effective arrival rate (λ_k) : 9.320074532885766\n",
      "The length of the system (Ls) : 2.889372101341749\n",
      "The waiting time in the system (Ws) : 8.600959194993361  minutes\n",
      "The waiting time in the system (Ws) : 18.60095919499336  minutes\n"
     ]
    }
   ],
   "source": [
    "import math\n",
    "lamda = int(input(\"Enter the arrival rate of individuals/hour, (λ)  :\"))\n",
    "miu = int(input(\"Enter the service rate of the system/hour, (μ)  :\"))\n",
    "c = int(input(\"Enter the Number of servers, (c)  :\"))\n",
    "\n",
    "row = lamda/miu\n",
    "row_by_c = row/c\n",
    "sum = 0\n",
    "l = 7 # value of N\n",
    "for n in range(0,c):\n",
    "    f =math.factorial(n)\n",
    "    a =(row**n)/f\n",
    "    sum= sum+ a\n",
    "second = ((row**c)/math.factorial(c))\n",
    "third = ((1-((row_by_c)**(l-c+1)))/(1-row_by_c))\n",
    "final = 1/(sum+second*third)\n",
    "\n",
    "print(f\"The probability of no person (P0) {final} or {final*100} % \")\n",
    "\n",
    "# determining lq\n",
    "lq_1 = ((row ** (c + 1)) * final) / ((math.factorial(c - 1)))\n",
    "lq_2 = 1 - ((row_by_c)**(l-c+1)) -((l-c+1)*(1-row_by_c)*((row_by_c)**(l-c)))\n",
    "lq_3 = (c - row)**2\n",
    "\n",
    "lq = lq_1*(lq_2/lq_3)\n",
    "print(f\"The length of the queue (Lq) : {lq} \")\n",
    "\n",
    "# determining lamda_k\n",
    "p_n =(((row)**l)/((math.factorial(c))*(c**(l-c))))*final\n",
    "lamda_k = lamda*(1-p_n)\n",
    "print(f\"Effective arrival rate (λ_k) : {lamda_k}\")\n",
    "\n",
    "# determining ls\n",
    "ls = lq + (lamda_k/miu)\n",
    "print(f\"The length of the system (Ls) : {ls}\")\n",
    "\n",
    "# determining Wq\n",
    "wq = lq / lamda_k\n",
    "print(f\"The waiting time in the system (Ws) : {wq*60}  minutes\")\n",
    "\n",
    "# determining Ws\n",
    "ws = ls / lamda_k\n",
    "print(f\"The waiting time in the system (Ws) : {ws*60}  minutes\")\n",
    "\n"
   ],
   "metadata": {
    "collapsed": false,
    "pycharm": {
     "name": "#%%\n"
    }
   }
  },
  {
   "cell_type": "code",
   "execution_count": null,
   "outputs": [],
   "source": [],
   "metadata": {
    "collapsed": false,
    "pycharm": {
     "name": "#%%\n"
    }
   }
  }
 ],
 "metadata": {
  "kernelspec": {
   "display_name": "Python 3",
   "language": "python",
   "name": "python3"
  },
  "language_info": {
   "codemirror_mode": {
    "name": "ipython",
    "version": 2
   },
   "file_extension": ".py",
   "mimetype": "text/x-python",
   "name": "python",
   "nbconvert_exporter": "python",
   "pygments_lexer": "ipython2",
   "version": "2.7.6"
  }
 },
 "nbformat": 4,
 "nbformat_minor": 0
}