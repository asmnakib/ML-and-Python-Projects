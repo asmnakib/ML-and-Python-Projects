{
 "cells": [
  {
   "cell_type": "code",
   "execution_count": 1,
   "outputs": [],
   "source": [
    "import numpy as np\n",
    "import pandas as pd\n",
    "import matplotlib.pyplot as plt\n",
    "import seaborn as sns\n",
    "import warnings\n",
    "warnings.filterwarnings('ignore')"
   ],
   "metadata": {
    "collapsed": false,
    "pycharm": {
     "name": "#%%\n"
    }
   }
  },
  {
   "cell_type": "code",
   "execution_count": 2,
   "outputs": [],
   "source": [
    "data = pd.read_excel(\"Multiple Server Finite Queue Length Infinite Queue Population Model Output.xlsx\")"
   ],
   "metadata": {
    "collapsed": false,
    "pycharm": {
     "name": "#%%\n"
    }
   }
  },
  {
   "cell_type": "code",
   "execution_count": 3,
   "outputs": [
    {
     "data": {
      "text/plain": "   Unnamed: 0  lamda  miu  c        P0        Ls    lamda k        Lq  \\\n0           0     13    9  2  0.176459  2.306420  12.529767  0.914224   \n1           1     14   10  2  0.189310  2.193012  13.563467  0.836665   \n2           2     15   11  2  0.200314  2.101661  14.588364  0.775446   \n3           3     16   12  2  0.209824  2.026672  15.607023  0.726087   \n4           4     12    8  2  0.161314  2.450367  11.483213  1.014966   \n\n          Ws        Wq       row  row by c  \n0  11.044517  4.377851  1.444444  0.722222  \n1   9.701112  3.701112  1.400000  0.700000  \n2   8.643852  3.189307  1.363636  0.681818  \n3   7.791384  2.791384  1.333333  0.666667  \n4  12.803214  5.303214  1.500000  0.750000  ",
      "text/html": "<div>\n<style scoped>\n    .dataframe tbody tr th:only-of-type {\n        vertical-align: middle;\n    }\n\n    .dataframe tbody tr th {\n        vertical-align: top;\n    }\n\n    .dataframe thead th {\n        text-align: right;\n    }\n</style>\n<table border=\"1\" class=\"dataframe\">\n  <thead>\n    <tr style=\"text-align: right;\">\n      <th></th>\n      <th>Unnamed: 0</th>\n      <th>lamda</th>\n      <th>miu</th>\n      <th>c</th>\n      <th>P0</th>\n      <th>Ls</th>\n      <th>lamda k</th>\n      <th>Lq</th>\n      <th>Ws</th>\n      <th>Wq</th>\n      <th>row</th>\n      <th>row by c</th>\n    </tr>\n  </thead>\n  <tbody>\n    <tr>\n      <th>0</th>\n      <td>0</td>\n      <td>13</td>\n      <td>9</td>\n      <td>2</td>\n      <td>0.176459</td>\n      <td>2.306420</td>\n      <td>12.529767</td>\n      <td>0.914224</td>\n      <td>11.044517</td>\n      <td>4.377851</td>\n      <td>1.444444</td>\n      <td>0.722222</td>\n    </tr>\n    <tr>\n      <th>1</th>\n      <td>1</td>\n      <td>14</td>\n      <td>10</td>\n      <td>2</td>\n      <td>0.189310</td>\n      <td>2.193012</td>\n      <td>13.563467</td>\n      <td>0.836665</td>\n      <td>9.701112</td>\n      <td>3.701112</td>\n      <td>1.400000</td>\n      <td>0.700000</td>\n    </tr>\n    <tr>\n      <th>2</th>\n      <td>2</td>\n      <td>15</td>\n      <td>11</td>\n      <td>2</td>\n      <td>0.200314</td>\n      <td>2.101661</td>\n      <td>14.588364</td>\n      <td>0.775446</td>\n      <td>8.643852</td>\n      <td>3.189307</td>\n      <td>1.363636</td>\n      <td>0.681818</td>\n    </tr>\n    <tr>\n      <th>3</th>\n      <td>3</td>\n      <td>16</td>\n      <td>12</td>\n      <td>2</td>\n      <td>0.209824</td>\n      <td>2.026672</td>\n      <td>15.607023</td>\n      <td>0.726087</td>\n      <td>7.791384</td>\n      <td>2.791384</td>\n      <td>1.333333</td>\n      <td>0.666667</td>\n    </tr>\n    <tr>\n      <th>4</th>\n      <td>4</td>\n      <td>12</td>\n      <td>8</td>\n      <td>2</td>\n      <td>0.161314</td>\n      <td>2.450367</td>\n      <td>11.483213</td>\n      <td>1.014966</td>\n      <td>12.803214</td>\n      <td>5.303214</td>\n      <td>1.500000</td>\n      <td>0.750000</td>\n    </tr>\n  </tbody>\n</table>\n</div>"
     },
     "execution_count": 3,
     "metadata": {},
     "output_type": "execute_result"
    }
   ],
   "source": [
    "data.head()"
   ],
   "metadata": {
    "collapsed": false,
    "pycharm": {
     "name": "#%%\n"
    }
   }
  },
  {
   "cell_type": "code",
   "execution_count": 7,
   "outputs": [],
   "source": [
    "new_data = data[['lamda','miu','c','Ls','Lq','Wq','Ws']]"
   ],
   "metadata": {
    "collapsed": false,
    "pycharm": {
     "name": "#%%\n"
    }
   }
  },
  {
   "cell_type": "code",
   "execution_count": 4,
   "outputs": [
    {
     "data": {
      "text/plain": "Index(['Unnamed: 0', 'lamda', 'miu', 'c', 'P0', 'Ls', 'lamda k', 'Lq', 'Ws',\n       'Wq', 'row', 'row by c'],\n      dtype='object')"
     },
     "execution_count": 4,
     "metadata": {},
     "output_type": "execute_result"
    }
   ],
   "source": [
    "data.columns"
   ],
   "metadata": {
    "collapsed": false,
    "pycharm": {
     "name": "#%%\n"
    }
   }
  },
  {
   "cell_type": "code",
   "execution_count": 8,
   "outputs": [
    {
     "data": {
      "text/plain": "    lamda  miu  c        Ls        Lq         Wq         Ws\n0      13    9  2  2.306420  0.914224   4.377851  11.044517\n1      14   10  2  2.193012  0.836665   3.701112   9.701112\n2      15   11  2  2.101661  0.775446   3.189307   8.643852\n3      16   12  2  2.026672  0.726087   2.791384   7.791384\n4      12    8  2  2.450367  1.014966   5.303214  12.803214\n5      11    7  2  2.637856  1.149694   6.621935  15.193363\n6      10    6  2  2.889372  1.336026   8.600959  18.600959\n7       9    5  2  3.237635  1.603348  11.772827  23.772827\n8      10    6  3  1.925166  0.279992   1.701901  11.701901\n9      10    6  4  1.718255  0.058818   0.354443  10.354443\n10     10    6  5  1.674151  0.011226   0.067508  10.067508\n11     10    6  6  1.665625  0.001562   0.009387  10.009387\n12     10    6  3  1.925166  0.279992   1.701901  11.701901\n13     11    7  4  1.612621  0.046172   0.252648   8.824076\n14     12    8  5  1.504866  0.006770   0.033895   7.533895\n15     13    9  6  1.444126  0.000716   0.003309   6.669975",
      "text/html": "<div>\n<style scoped>\n    .dataframe tbody tr th:only-of-type {\n        vertical-align: middle;\n    }\n\n    .dataframe tbody tr th {\n        vertical-align: top;\n    }\n\n    .dataframe thead th {\n        text-align: right;\n    }\n</style>\n<table border=\"1\" class=\"dataframe\">\n  <thead>\n    <tr style=\"text-align: right;\">\n      <th></th>\n      <th>lamda</th>\n      <th>miu</th>\n      <th>c</th>\n      <th>Ls</th>\n      <th>Lq</th>\n      <th>Wq</th>\n      <th>Ws</th>\n    </tr>\n  </thead>\n  <tbody>\n    <tr>\n      <th>0</th>\n      <td>13</td>\n      <td>9</td>\n      <td>2</td>\n      <td>2.306420</td>\n      <td>0.914224</td>\n      <td>4.377851</td>\n      <td>11.044517</td>\n    </tr>\n    <tr>\n      <th>1</th>\n      <td>14</td>\n      <td>10</td>\n      <td>2</td>\n      <td>2.193012</td>\n      <td>0.836665</td>\n      <td>3.701112</td>\n      <td>9.701112</td>\n    </tr>\n    <tr>\n      <th>2</th>\n      <td>15</td>\n      <td>11</td>\n      <td>2</td>\n      <td>2.101661</td>\n      <td>0.775446</td>\n      <td>3.189307</td>\n      <td>8.643852</td>\n    </tr>\n    <tr>\n      <th>3</th>\n      <td>16</td>\n      <td>12</td>\n      <td>2</td>\n      <td>2.026672</td>\n      <td>0.726087</td>\n      <td>2.791384</td>\n      <td>7.791384</td>\n    </tr>\n    <tr>\n      <th>4</th>\n      <td>12</td>\n      <td>8</td>\n      <td>2</td>\n      <td>2.450367</td>\n      <td>1.014966</td>\n      <td>5.303214</td>\n      <td>12.803214</td>\n    </tr>\n    <tr>\n      <th>5</th>\n      <td>11</td>\n      <td>7</td>\n      <td>2</td>\n      <td>2.637856</td>\n      <td>1.149694</td>\n      <td>6.621935</td>\n      <td>15.193363</td>\n    </tr>\n    <tr>\n      <th>6</th>\n      <td>10</td>\n      <td>6</td>\n      <td>2</td>\n      <td>2.889372</td>\n      <td>1.336026</td>\n      <td>8.600959</td>\n      <td>18.600959</td>\n    </tr>\n    <tr>\n      <th>7</th>\n      <td>9</td>\n      <td>5</td>\n      <td>2</td>\n      <td>3.237635</td>\n      <td>1.603348</td>\n      <td>11.772827</td>\n      <td>23.772827</td>\n    </tr>\n    <tr>\n      <th>8</th>\n      <td>10</td>\n      <td>6</td>\n      <td>3</td>\n      <td>1.925166</td>\n      <td>0.279992</td>\n      <td>1.701901</td>\n      <td>11.701901</td>\n    </tr>\n    <tr>\n      <th>9</th>\n      <td>10</td>\n      <td>6</td>\n      <td>4</td>\n      <td>1.718255</td>\n      <td>0.058818</td>\n      <td>0.354443</td>\n      <td>10.354443</td>\n    </tr>\n    <tr>\n      <th>10</th>\n      <td>10</td>\n      <td>6</td>\n      <td>5</td>\n      <td>1.674151</td>\n      <td>0.011226</td>\n      <td>0.067508</td>\n      <td>10.067508</td>\n    </tr>\n    <tr>\n      <th>11</th>\n      <td>10</td>\n      <td>6</td>\n      <td>6</td>\n      <td>1.665625</td>\n      <td>0.001562</td>\n      <td>0.009387</td>\n      <td>10.009387</td>\n    </tr>\n    <tr>\n      <th>12</th>\n      <td>10</td>\n      <td>6</td>\n      <td>3</td>\n      <td>1.925166</td>\n      <td>0.279992</td>\n      <td>1.701901</td>\n      <td>11.701901</td>\n    </tr>\n    <tr>\n      <th>13</th>\n      <td>11</td>\n      <td>7</td>\n      <td>4</td>\n      <td>1.612621</td>\n      <td>0.046172</td>\n      <td>0.252648</td>\n      <td>8.824076</td>\n    </tr>\n    <tr>\n      <th>14</th>\n      <td>12</td>\n      <td>8</td>\n      <td>5</td>\n      <td>1.504866</td>\n      <td>0.006770</td>\n      <td>0.033895</td>\n      <td>7.533895</td>\n    </tr>\n    <tr>\n      <th>15</th>\n      <td>13</td>\n      <td>9</td>\n      <td>6</td>\n      <td>1.444126</td>\n      <td>0.000716</td>\n      <td>0.003309</td>\n      <td>6.669975</td>\n    </tr>\n  </tbody>\n</table>\n</div>"
     },
     "execution_count": 8,
     "metadata": {},
     "output_type": "execute_result"
    }
   ],
   "source": [
    "new_data"
   ],
   "metadata": {
    "collapsed": false,
    "pycharm": {
     "name": "#%%\n"
    }
   }
  },
  {
   "cell_type": "code",
   "execution_count": 19,
   "outputs": [],
   "source": [
    "case_1 = new_data[0:4]\n",
    "case_2 = new_data[4:8]\n",
    "case_3 = new_data[8:12]\n",
    "case_4 = new_data[12:16]"
   ],
   "metadata": {
    "collapsed": false,
    "pycharm": {
     "name": "#%%\n"
    }
   }
  },
  {
   "cell_type": "code",
   "execution_count": 20,
   "outputs": [
    {
     "data": {
      "text/plain": "   lamda  miu  c        Ls        Lq        Wq         Ws\n0     13    9  2  2.306420  0.914224  4.377851  11.044517\n1     14   10  2  2.193012  0.836665  3.701112   9.701112\n2     15   11  2  2.101661  0.775446  3.189307   8.643852\n3     16   12  2  2.026672  0.726087  2.791384   7.791384",
      "text/html": "<div>\n<style scoped>\n    .dataframe tbody tr th:only-of-type {\n        vertical-align: middle;\n    }\n\n    .dataframe tbody tr th {\n        vertical-align: top;\n    }\n\n    .dataframe thead th {\n        text-align: right;\n    }\n</style>\n<table border=\"1\" class=\"dataframe\">\n  <thead>\n    <tr style=\"text-align: right;\">\n      <th></th>\n      <th>lamda</th>\n      <th>miu</th>\n      <th>c</th>\n      <th>Ls</th>\n      <th>Lq</th>\n      <th>Wq</th>\n      <th>Ws</th>\n    </tr>\n  </thead>\n  <tbody>\n    <tr>\n      <th>0</th>\n      <td>13</td>\n      <td>9</td>\n      <td>2</td>\n      <td>2.306420</td>\n      <td>0.914224</td>\n      <td>4.377851</td>\n      <td>11.044517</td>\n    </tr>\n    <tr>\n      <th>1</th>\n      <td>14</td>\n      <td>10</td>\n      <td>2</td>\n      <td>2.193012</td>\n      <td>0.836665</td>\n      <td>3.701112</td>\n      <td>9.701112</td>\n    </tr>\n    <tr>\n      <th>2</th>\n      <td>15</td>\n      <td>11</td>\n      <td>2</td>\n      <td>2.101661</td>\n      <td>0.775446</td>\n      <td>3.189307</td>\n      <td>8.643852</td>\n    </tr>\n    <tr>\n      <th>3</th>\n      <td>16</td>\n      <td>12</td>\n      <td>2</td>\n      <td>2.026672</td>\n      <td>0.726087</td>\n      <td>2.791384</td>\n      <td>7.791384</td>\n    </tr>\n  </tbody>\n</table>\n</div>"
     },
     "execution_count": 20,
     "metadata": {},
     "output_type": "execute_result"
    }
   ],
   "source": [
    "case_1"
   ],
   "metadata": {
    "collapsed": false,
    "pycharm": {
     "name": "#%%\n"
    }
   }
  },
  {
   "cell_type": "code",
   "execution_count": 26,
   "outputs": [],
   "source": [
    "x = case_1['lamda']\n",
    "x2 = case_1['miu']\n",
    "ls = case_1['Ls']\n",
    "lq = case_1['Lq']\n",
    "wq = case_1['Wq']\n",
    "ws = case_1['Ws']"
   ],
   "metadata": {
    "collapsed": false,
    "pycharm": {
     "name": "#%%\n"
    }
   }
  }
 ],
 "metadata": {
  "kernelspec": {
   "display_name": "Python 3",
   "language": "python",
   "name": "python3"
  },
  "language_info": {
   "codemirror_mode": {
    "name": "ipython",
    "version": 2
   },
   "file_extension": ".py",
   "mimetype": "text/x-python",
   "name": "python",
   "nbconvert_exporter": "python",
   "pygments_lexer": "ipython2",
   "version": "2.7.6"
  }
 },
 "nbformat": 4,
 "nbformat_minor": 0
}