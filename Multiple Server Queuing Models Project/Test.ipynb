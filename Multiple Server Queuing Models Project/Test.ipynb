{
 "cells": [
  {
   "cell_type": "code",
   "execution_count": 2,
   "outputs": [],
   "source": [
    "import math\n",
    "import pandas as pd\n"
   ],
   "metadata": {
    "collapsed": false,
    "pycharm": {
     "name": "#%%\n"
    }
   }
  },
  {
   "cell_type": "code",
   "execution_count": 11,
   "outputs": [],
   "source": [
    "lamda = 10\n",
    "miu = 6\n",
    "c = 2\n",
    "row = lamda/miu\n",
    "row_by_c = row/c\n",
    "sum = 0\n",
    "l = 7 # value of N\n",
    "for n in range(0,c):\n",
    "    f =math.factorial(n)\n",
    "    a =(row**n)/f\n",
    "    sum= sum+ a\n",
    "second = ((row**c)/math.factorial(c))\n",
    "third = ((1-((row_by_c)**(l-c+1)))/(1-row_by_c))\n",
    "final = 1/(sum+second*third)"
   ],
   "metadata": {
    "collapsed": false,
    "pycharm": {
     "name": "#%%\n"
    }
   }
  },
  {
   "cell_type": "code",
   "execution_count": 12,
   "outputs": [
    {
     "data": {
      "text/plain": "3.990612139917696"
     },
     "execution_count": 12,
     "metadata": {},
     "output_type": "execute_result"
    }
   ],
   "source": [
    "third"
   ],
   "metadata": {
    "collapsed": false,
    "pycharm": {
     "name": "#%%\n"
    }
   }
  },
  {
   "cell_type": "code",
   "execution_count": 13,
   "outputs": [
    {
     "data": {
      "text/plain": "0.12181479395973793"
     },
     "execution_count": 13,
     "metadata": {},
     "output_type": "execute_result"
    }
   ],
   "source": [
    "1/(sum + second*third)"
   ],
   "metadata": {
    "collapsed": false,
    "pycharm": {
     "name": "#%%\n"
    }
   }
  },
  {
   "cell_type": "code",
   "execution_count": 10,
   "outputs": [
    {
     "data": {
      "text/plain": "0.12181479395973793"
     },
     "execution_count": 10,
     "metadata": {},
     "output_type": "execute_result"
    }
   ],
   "source": [
    "final"
   ],
   "metadata": {
    "collapsed": false,
    "pycharm": {
     "name": "#%%\n"
    }
   }
  },
  {
   "cell_type": "code",
   "execution_count": 1,
   "outputs": [
    {
     "ename": "ValueError",
     "evalue": "invalid literal for int() with base 10: ''",
     "output_type": "error",
     "traceback": [
      "\u001B[1;31m---------------------------------------------------------------------------\u001B[0m",
      "\u001B[1;31mValueError\u001B[0m                                Traceback (most recent call last)",
      "Input \u001B[1;32mIn [1]\u001B[0m, in \u001B[0;36m<cell line: 2>\u001B[1;34m()\u001B[0m\n\u001B[0;32m      1\u001B[0m \u001B[38;5;28;01mimport\u001B[39;00m \u001B[38;5;21;01mmath\u001B[39;00m\n\u001B[1;32m----> 2\u001B[0m lamda \u001B[38;5;241m=\u001B[39m \u001B[38;5;28;43mint\u001B[39;49m\u001B[43m(\u001B[49m\u001B[38;5;28;43minput\u001B[39;49m\u001B[43m(\u001B[49m\u001B[38;5;124;43m\"\u001B[39;49m\u001B[38;5;124;43mEnter the arrival rate of individuals/hour, (λ)  :\u001B[39;49m\u001B[38;5;124;43m\"\u001B[39;49m\u001B[43m)\u001B[49m\u001B[43m)\u001B[49m\n\u001B[0;32m      3\u001B[0m miu \u001B[38;5;241m=\u001B[39m \u001B[38;5;28mint\u001B[39m(\u001B[38;5;28minput\u001B[39m(\u001B[38;5;124m\"\u001B[39m\u001B[38;5;124mEnter the service rate of the system/hour, (μ)  :\u001B[39m\u001B[38;5;124m\"\u001B[39m))\n\u001B[0;32m      4\u001B[0m c \u001B[38;5;241m=\u001B[39m \u001B[38;5;28mint\u001B[39m(\u001B[38;5;28minput\u001B[39m(\u001B[38;5;124m\"\u001B[39m\u001B[38;5;124mEnter the Number of servers, (c)  :\u001B[39m\u001B[38;5;124m\"\u001B[39m))\n",
      "\u001B[1;31mValueError\u001B[0m: invalid literal for int() with base 10: ''"
     ]
    }
   ],
   "source": [
    "import math\n",
    "lamda = int(input(\"Enter the arrival rate of individuals/hour, (λ)  :\"))\n",
    "miu = int(input(\"Enter the service rate of the system/hour, (μ)  :\"))\n",
    "c = int(input(\"Enter the Number of servers, (c)  :\"))\n",
    "\n",
    "row = lamda/miu\n",
    "row_by_c = row/c\n",
    "sum = 0\n",
    "l = 7 # value of N\n",
    "for n in range(0,c):\n",
    "    f =math.factorial(n)\n",
    "    a =(row**n)/f\n",
    "    sum= sum+ a\n",
    "second = ((row**c)/math.factorial(c))\n",
    "third = ((1-((row_by_c)**(l-c+1)))/(1-row_by_c))\n",
    "final = 1/(sum+second*third)\n",
    "\n",
    "print(f\"The probability of no person (P0) {final} or {final*100} % \")\n",
    "\n",
    "# determining lq\n",
    "lq_1 = ((row ** (c + 1)) * final) / ((math.factorial(c - 1)))\n",
    "lq_2 = 1 - ((row_by_c)**(l-c+1)) -((l-c+1)*(1-row_by_c)*((row_by_c)**(l-c)))\n",
    "lq_3 = (c - row)**2\n",
    "\n",
    "lq = lq_1*(lq_2/lq_3)\n",
    "print(f\"The length of the queue (Lq) : {lq} \")\n",
    "\n",
    "# determining lamda_k\n",
    "lamda_k = lamda*(1-((lamda/miu)*l))\n",
    "print(f\"Effective arrival rate (λ_k) : {lamda_k}\")\n",
    "\n",
    "# determining ls\n",
    "ls = lq + (lamda_k/miu)\n",
    "print(f\"The length of the system (Ls) : {ls}\")\n",
    "\n",
    "# determining Wq\n",
    "wq = lq / lamda_k\n",
    "print(f\"The waiting time in the system (Ws) : {wq*60}  minutes\")\n",
    "\n",
    "# determining Ws\n",
    "ws = ls / lamda_k\n",
    "print(f\"The waiting time in the system (Ws) : {ws*60}  minutes\")\n",
    "\n",
    "\n"
   ],
   "metadata": {
    "collapsed": false,
    "pycharm": {
     "name": "#%%\n"
    }
   }
  },
  {
   "cell_type": "code",
   "execution_count": null,
   "outputs": [],
   "source": [],
   "metadata": {
    "collapsed": false,
    "pycharm": {
     "name": "#%%\n"
    }
   }
  }
 ],
 "metadata": {
  "kernelspec": {
   "display_name": "Python 3",
   "language": "python",
   "name": "python3"
  },
  "language_info": {
   "codemirror_mode": {
    "name": "ipython",
    "version": 2
   },
   "file_extension": ".py",
   "mimetype": "text/x-python",
   "name": "python",
   "nbconvert_exporter": "python",
   "pygments_lexer": "ipython2",
   "version": "2.7.6"
  }
 },
 "nbformat": 4,
 "nbformat_minor": 0
}