{
 "cells": [
  {
   "cell_type": "code",
   "execution_count": 139,
   "outputs": [],
   "source": [
    "import math\n",
    "import pandas as pd"
   ],
   "metadata": {
    "collapsed": false,
    "pycharm": {
     "name": "#%%\n"
    }
   }
  },
  {
   "cell_type": "code",
   "execution_count": 140,
   "outputs": [],
   "source": [
    "data = pd.read_csv('Work book - Copy.csv')"
   ],
   "metadata": {
    "collapsed": false,
    "pycharm": {
     "name": "#%%\n"
    }
   }
  },
  {
   "cell_type": "code",
   "execution_count": 141,
   "outputs": [],
   "source": [
    "lammda = data['lamda']\n",
    "miiu = data['miu']\n",
    "cc= data['c']\n",
    "roow = data['row']\n",
    "roow_by_c = data['row by c']"
   ],
   "metadata": {
    "collapsed": false,
    "pycharm": {
     "name": "#%%\n"
    }
   }
  },
  {
   "cell_type": "markdown",
   "source": [
    "lamda = 10\n",
    "miu = 6\n",
    "c = 2\n",
    "row = lamda/miu\n",
    "row_by_c = row/c\n",
    "sum = 0\n",
    "\n",
    "for n in range(0,c):\n",
    "    f =math.factorial(n)\n",
    "    a =(row**n)/f\n",
    "    sum= sum+ a\n",
    "second = ((row**c)/math.factorial(c))\n",
    "third = (1/(1-row_by_c))\n",
    "final = 1/(sum+second*third)"
   ],
   "metadata": {
    "collapsed": false,
    "pycharm": {
     "name": "#%% md\n"
    }
   }
  },
  {
   "cell_type": "markdown",
   "source": [
    "p = []\n",
    "for i in range(0,len(lammda)):\n",
    "    lamda = lammda[i]\n",
    "    miu = miiu[i]\n",
    "    c = cc[i]\n",
    "    row = lammda[i]/miiu[i]\n",
    "    row_by_c = row/c\n",
    "    sum = 0\n",
    "\n",
    "    for n in range(0,c):\n",
    "        f =math.factorial(n)\n",
    "        a =(row**n)/f\n",
    "        sum= sum+ a\n",
    "    second = ((row**c)/math.factorial(c))\n",
    "    third = (1/(1-row_by_c))\n",
    "    final = 1/(sum+second*third)\n",
    "    p.append(final)"
   ],
   "metadata": {
    "collapsed": false,
    "pycharm": {
     "name": "#%% md\n"
    }
   }
  },
  {
   "cell_type": "markdown",
   "source": [
    "data['P0']= p"
   ],
   "metadata": {
    "collapsed": false,
    "pycharm": {
     "name": "#%% md\n"
    }
   }
  },
  {
   "cell_type": "markdown",
   "source": [
    "## Determining Lq"
   ],
   "metadata": {
    "collapsed": false,
    "pycharm": {
     "name": "#%% md\n"
    }
   }
  },
  {
   "cell_type": "code",
   "execution_count": 142,
   "outputs": [
    {
     "name": "stderr",
     "output_type": "stream",
     "text": [
      "C:\\Users\\Nakib\\AppData\\Local\\Temp\\ipykernel_16028\\2859482081.py:19: RuntimeWarning: divide by zero encountered in double_scalars\n",
      "  third = (1/(1-row_by_c))\n",
      "C:\\Users\\Nakib\\AppData\\Local\\Temp\\ipykernel_16028\\2859482081.py:24: RuntimeWarning: invalid value encountered in double_scalars\n",
      "  lqq = ((row**(c+1))*final)/((math.factorial(c-1))*((c-row)**2))\n"
     ]
    }
   ],
   "source": [
    "p = []\n",
    "lq =[]\n",
    "ls = []\n",
    "wq = []\n",
    "ws = []\n",
    "for i in range(0,len(lammda)):\n",
    "    lamda = lammda[i]\n",
    "    miu = miiu[i]\n",
    "    c = cc[i]\n",
    "    row = lammda[i]/miiu[i]\n",
    "    row_by_c = row/c\n",
    "    sum = 0\n",
    "\n",
    "    for n in range(0,c):\n",
    "        f =math.factorial(n)\n",
    "        a =(row**n)/f\n",
    "        sum= sum+ a\n",
    "    second = ((row**c)/math.factorial(c))\n",
    "    third = (1/(1-row_by_c))\n",
    "    final = 1/(sum+second*third)\n",
    "    p.append(final)\n",
    "\n",
    "    # determining lq\n",
    "    lqq = ((row**(c+1))*final)/((math.factorial(c-1))*((c-row)**2))\n",
    "    lq.append(lqq)\n",
    "\n",
    "    # determining ls\n",
    "    lls = lqq+row\n",
    "    ls.append(lls)\n",
    "\n",
    "    # determining Wq\n",
    "    wqq = (lqq/lamda)*60\n",
    "    wq.append(wqq)\n",
    "\n",
    "    # determining Ws\n",
    "    wss = (lls/lamda)*60\n",
    "    ws.append(wss)\n"
   ],
   "metadata": {
    "collapsed": false,
    "pycharm": {
     "name": "#%%\n"
    }
   }
  },
  {
   "cell_type": "code",
   "execution_count": 143,
   "outputs": [],
   "source": [
    "data['P0'] = p\n",
    "data['Lq'] = lq\n",
    "data['Ls'] = ls\n",
    "data['Wq'] = wq\n",
    "data['Ws'] = ws"
   ],
   "metadata": {
    "collapsed": false,
    "pycharm": {
     "name": "#%%\n"
    }
   }
  },
  {
   "cell_type": "code",
   "execution_count": 144,
   "outputs": [
    {
     "data": {
      "text/plain": "    lamda  miu  c        P0        Ls        Lq         Ws         Wq  \\\n0      11    7  2  0.120000  4.106667  2.535238  22.400000  13.828571   \n1      12    8  2  0.142857  3.428571  1.928571  17.142857   9.642857   \n2      13    9  2  0.161290  3.019355  1.574910  13.935484   7.268817   \n3      14   10  2  0.176471  2.745098  1.345098  11.764706   5.764706   \n4       9    5  2  0.052632  9.473684  7.673684  63.157895  51.157895   \n5       8    4  2  0.000000       NaN       NaN        NaN        NaN   \n6       7    3  2 -0.076923 -6.461538 -8.794872 -55.384615 -75.384615   \n7       6    2  2 -0.200000 -2.400000 -5.400000 -24.000000 -54.000000   \n8      11    7  3  0.193638  1.860719  0.289291  10.149378   1.577949   \n9      12    8  4  0.220994  1.544751  0.044751   7.723757   0.223757   \n10     13    9  5  0.235571  1.451496  0.007052   6.699213   0.032547   \n11     14   10  6  0.246557  1.401024  0.001024   6.004387   0.004387   \n12      9    5  3  0.145985  2.332117  0.532117  15.547445   3.547445   \n13      8    4  4  0.130435  2.173913  0.173913  16.304348   1.304348   \n14      7    3  5  0.095341  2.423489  0.090156  20.772764   0.772764   \n15      6    2  6  0.048960  3.099143  0.099143  30.991432   0.991432   \n\n         row  row by c  Unnamed: 10  Unnamed: 11  Unnamed: 12  \n0   1.571429  0.785714          NaN          NaN          NaN  \n1   1.500000  0.750000          NaN          NaN          NaN  \n2   1.444444  0.722222          NaN          NaN          NaN  \n3   1.400000  0.700000          NaN          NaN          NaN  \n4   1.800000  0.900000          NaN          NaN          NaN  \n5   2.000000  1.000000          NaN          NaN          NaN  \n6   2.333333  1.166667          NaN          NaN          NaN  \n7   3.000000  1.500000          NaN          NaN          NaN  \n8   1.571429  0.523810          NaN          NaN          NaN  \n9   1.500000  0.375000          NaN          NaN          NaN  \n10  1.444444  0.288889          NaN          NaN          NaN  \n11  1.400000  0.233333          NaN          NaN          NaN  \n12  1.800000  0.600000          NaN          NaN          NaN  \n13  2.000000  0.500000          NaN          NaN          NaN  \n14  2.333333  0.466667          NaN          NaN          NaN  \n15  3.000000  0.500000          NaN          NaN          NaN  ",
      "text/html": "<div>\n<style scoped>\n    .dataframe tbody tr th:only-of-type {\n        vertical-align: middle;\n    }\n\n    .dataframe tbody tr th {\n        vertical-align: top;\n    }\n\n    .dataframe thead th {\n        text-align: right;\n    }\n</style>\n<table border=\"1\" class=\"dataframe\">\n  <thead>\n    <tr style=\"text-align: right;\">\n      <th></th>\n      <th>lamda</th>\n      <th>miu</th>\n      <th>c</th>\n      <th>P0</th>\n      <th>Ls</th>\n      <th>Lq</th>\n      <th>Ws</th>\n      <th>Wq</th>\n      <th>row</th>\n      <th>row by c</th>\n      <th>Unnamed: 10</th>\n      <th>Unnamed: 11</th>\n      <th>Unnamed: 12</th>\n    </tr>\n  </thead>\n  <tbody>\n    <tr>\n      <th>0</th>\n      <td>11</td>\n      <td>7</td>\n      <td>2</td>\n      <td>0.120000</td>\n      <td>4.106667</td>\n      <td>2.535238</td>\n      <td>22.400000</td>\n      <td>13.828571</td>\n      <td>1.571429</td>\n      <td>0.785714</td>\n      <td>NaN</td>\n      <td>NaN</td>\n      <td>NaN</td>\n    </tr>\n    <tr>\n      <th>1</th>\n      <td>12</td>\n      <td>8</td>\n      <td>2</td>\n      <td>0.142857</td>\n      <td>3.428571</td>\n      <td>1.928571</td>\n      <td>17.142857</td>\n      <td>9.642857</td>\n      <td>1.500000</td>\n      <td>0.750000</td>\n      <td>NaN</td>\n      <td>NaN</td>\n      <td>NaN</td>\n    </tr>\n    <tr>\n      <th>2</th>\n      <td>13</td>\n      <td>9</td>\n      <td>2</td>\n      <td>0.161290</td>\n      <td>3.019355</td>\n      <td>1.574910</td>\n      <td>13.935484</td>\n      <td>7.268817</td>\n      <td>1.444444</td>\n      <td>0.722222</td>\n      <td>NaN</td>\n      <td>NaN</td>\n      <td>NaN</td>\n    </tr>\n    <tr>\n      <th>3</th>\n      <td>14</td>\n      <td>10</td>\n      <td>2</td>\n      <td>0.176471</td>\n      <td>2.745098</td>\n      <td>1.345098</td>\n      <td>11.764706</td>\n      <td>5.764706</td>\n      <td>1.400000</td>\n      <td>0.700000</td>\n      <td>NaN</td>\n      <td>NaN</td>\n      <td>NaN</td>\n    </tr>\n    <tr>\n      <th>4</th>\n      <td>9</td>\n      <td>5</td>\n      <td>2</td>\n      <td>0.052632</td>\n      <td>9.473684</td>\n      <td>7.673684</td>\n      <td>63.157895</td>\n      <td>51.157895</td>\n      <td>1.800000</td>\n      <td>0.900000</td>\n      <td>NaN</td>\n      <td>NaN</td>\n      <td>NaN</td>\n    </tr>\n    <tr>\n      <th>5</th>\n      <td>8</td>\n      <td>4</td>\n      <td>2</td>\n      <td>0.000000</td>\n      <td>NaN</td>\n      <td>NaN</td>\n      <td>NaN</td>\n      <td>NaN</td>\n      <td>2.000000</td>\n      <td>1.000000</td>\n      <td>NaN</td>\n      <td>NaN</td>\n      <td>NaN</td>\n    </tr>\n    <tr>\n      <th>6</th>\n      <td>7</td>\n      <td>3</td>\n      <td>2</td>\n      <td>-0.076923</td>\n      <td>-6.461538</td>\n      <td>-8.794872</td>\n      <td>-55.384615</td>\n      <td>-75.384615</td>\n      <td>2.333333</td>\n      <td>1.166667</td>\n      <td>NaN</td>\n      <td>NaN</td>\n      <td>NaN</td>\n    </tr>\n    <tr>\n      <th>7</th>\n      <td>6</td>\n      <td>2</td>\n      <td>2</td>\n      <td>-0.200000</td>\n      <td>-2.400000</td>\n      <td>-5.400000</td>\n      <td>-24.000000</td>\n      <td>-54.000000</td>\n      <td>3.000000</td>\n      <td>1.500000</td>\n      <td>NaN</td>\n      <td>NaN</td>\n      <td>NaN</td>\n    </tr>\n    <tr>\n      <th>8</th>\n      <td>11</td>\n      <td>7</td>\n      <td>3</td>\n      <td>0.193638</td>\n      <td>1.860719</td>\n      <td>0.289291</td>\n      <td>10.149378</td>\n      <td>1.577949</td>\n      <td>1.571429</td>\n      <td>0.523810</td>\n      <td>NaN</td>\n      <td>NaN</td>\n      <td>NaN</td>\n    </tr>\n    <tr>\n      <th>9</th>\n      <td>12</td>\n      <td>8</td>\n      <td>4</td>\n      <td>0.220994</td>\n      <td>1.544751</td>\n      <td>0.044751</td>\n      <td>7.723757</td>\n      <td>0.223757</td>\n      <td>1.500000</td>\n      <td>0.375000</td>\n      <td>NaN</td>\n      <td>NaN</td>\n      <td>NaN</td>\n    </tr>\n    <tr>\n      <th>10</th>\n      <td>13</td>\n      <td>9</td>\n      <td>5</td>\n      <td>0.235571</td>\n      <td>1.451496</td>\n      <td>0.007052</td>\n      <td>6.699213</td>\n      <td>0.032547</td>\n      <td>1.444444</td>\n      <td>0.288889</td>\n      <td>NaN</td>\n      <td>NaN</td>\n      <td>NaN</td>\n    </tr>\n    <tr>\n      <th>11</th>\n      <td>14</td>\n      <td>10</td>\n      <td>6</td>\n      <td>0.246557</td>\n      <td>1.401024</td>\n      <td>0.001024</td>\n      <td>6.004387</td>\n      <td>0.004387</td>\n      <td>1.400000</td>\n      <td>0.233333</td>\n      <td>NaN</td>\n      <td>NaN</td>\n      <td>NaN</td>\n    </tr>\n    <tr>\n      <th>12</th>\n      <td>9</td>\n      <td>5</td>\n      <td>3</td>\n      <td>0.145985</td>\n      <td>2.332117</td>\n      <td>0.532117</td>\n      <td>15.547445</td>\n      <td>3.547445</td>\n      <td>1.800000</td>\n      <td>0.600000</td>\n      <td>NaN</td>\n      <td>NaN</td>\n      <td>NaN</td>\n    </tr>\n    <tr>\n      <th>13</th>\n      <td>8</td>\n      <td>4</td>\n      <td>4</td>\n      <td>0.130435</td>\n      <td>2.173913</td>\n      <td>0.173913</td>\n      <td>16.304348</td>\n      <td>1.304348</td>\n      <td>2.000000</td>\n      <td>0.500000</td>\n      <td>NaN</td>\n      <td>NaN</td>\n      <td>NaN</td>\n    </tr>\n    <tr>\n      <th>14</th>\n      <td>7</td>\n      <td>3</td>\n      <td>5</td>\n      <td>0.095341</td>\n      <td>2.423489</td>\n      <td>0.090156</td>\n      <td>20.772764</td>\n      <td>0.772764</td>\n      <td>2.333333</td>\n      <td>0.466667</td>\n      <td>NaN</td>\n      <td>NaN</td>\n      <td>NaN</td>\n    </tr>\n    <tr>\n      <th>15</th>\n      <td>6</td>\n      <td>2</td>\n      <td>6</td>\n      <td>0.048960</td>\n      <td>3.099143</td>\n      <td>0.099143</td>\n      <td>30.991432</td>\n      <td>0.991432</td>\n      <td>3.000000</td>\n      <td>0.500000</td>\n      <td>NaN</td>\n      <td>NaN</td>\n      <td>NaN</td>\n    </tr>\n  </tbody>\n</table>\n</div>"
     },
     "execution_count": 144,
     "metadata": {},
     "output_type": "execute_result"
    }
   ],
   "source": [
    "data"
   ],
   "metadata": {
    "collapsed": false,
    "pycharm": {
     "name": "#%%\n"
    }
   }
  },
  {
   "cell_type": "code",
   "execution_count": 145,
   "outputs": [],
   "source": [
    "data.to_excel(\"Multiple Server Infinite Queue Length Infinite Queue Population Model Updated.xlsx\")"
   ],
   "metadata": {
    "collapsed": false,
    "pycharm": {
     "name": "#%%\n"
    }
   }
  },
  {
   "cell_type": "code",
   "execution_count": null,
   "outputs": [],
   "source": [],
   "metadata": {
    "collapsed": false,
    "pycharm": {
     "name": "#%%\n"
    }
   }
  }
 ],
 "metadata": {
  "kernelspec": {
   "display_name": "Python 3",
   "language": "python",
   "name": "python3"
  },
  "language_info": {
   "codemirror_mode": {
    "name": "ipython",
    "version": 2
   },
   "file_extension": ".py",
   "mimetype": "text/x-python",
   "name": "python",
   "nbconvert_exporter": "python",
   "pygments_lexer": "ipython2",
   "version": "2.7.6"
  }
 },
 "nbformat": 4,
 "nbformat_minor": 0
}