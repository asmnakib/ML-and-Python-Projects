{
 "cells": [
  {
   "cell_type": "code",
   "execution_count": 18,
   "outputs": [],
   "source": [
    "import math\n",
    "import pandas as pd\n"
   ],
   "metadata": {
    "collapsed": false,
    "pycharm": {
     "name": "#%%\n"
    }
   }
  },
  {
   "cell_type": "code",
   "execution_count": 19,
   "outputs": [],
   "source": [
    "data = pd.read_excel('Multiple Server Infinite Queue Length Infinite Queue Population Model Data Set.xlsx')"
   ],
   "metadata": {
    "collapsed": false,
    "pycharm": {
     "name": "#%%\n"
    }
   }
  },
  {
   "cell_type": "code",
   "execution_count": 20,
   "outputs": [
    {
     "data": {
      "text/plain": "    lamda  miu  c  P0  Ls  Lq  Ws  Wq       row  row by c\n0      13    9  2 NaN NaN NaN NaN NaN  1.444444  0.722222\n1      14   10  2 NaN NaN NaN NaN NaN  1.400000  0.700000\n2      15   11  2 NaN NaN NaN NaN NaN  1.363636  0.681818\n3      16   12  2 NaN NaN NaN NaN NaN  1.333333  0.666667\n4      12    8  2 NaN NaN NaN NaN NaN  1.500000  0.750000\n5      11    7  2 NaN NaN NaN NaN NaN  1.571429  0.785714\n6      10    6  2 NaN NaN NaN NaN NaN  1.666667  0.833333\n7       9    5  2 NaN NaN NaN NaN NaN  1.800000  0.900000\n8      10    6  3 NaN NaN NaN NaN NaN  1.666667  0.555556\n9      10    6  4 NaN NaN NaN NaN NaN  1.666667  0.416667\n10     10    6  5 NaN NaN NaN NaN NaN  1.666667  0.333333\n11     10    6  6 NaN NaN NaN NaN NaN  1.666667  0.277778\n12     10    6  3 NaN NaN NaN NaN NaN  1.666667  0.555556\n13     11    7  4 NaN NaN NaN NaN NaN  1.571429  0.392857\n14     12    8  5 NaN NaN NaN NaN NaN  1.500000  0.300000\n15     13    9  6 NaN NaN NaN NaN NaN  1.444444  0.240741",
      "text/html": "<div>\n<style scoped>\n    .dataframe tbody tr th:only-of-type {\n        vertical-align: middle;\n    }\n\n    .dataframe tbody tr th {\n        vertical-align: top;\n    }\n\n    .dataframe thead th {\n        text-align: right;\n    }\n</style>\n<table border=\"1\" class=\"dataframe\">\n  <thead>\n    <tr style=\"text-align: right;\">\n      <th></th>\n      <th>lamda</th>\n      <th>miu</th>\n      <th>c</th>\n      <th>P0</th>\n      <th>Ls</th>\n      <th>Lq</th>\n      <th>Ws</th>\n      <th>Wq</th>\n      <th>row</th>\n      <th>row by c</th>\n    </tr>\n  </thead>\n  <tbody>\n    <tr>\n      <th>0</th>\n      <td>13</td>\n      <td>9</td>\n      <td>2</td>\n      <td>NaN</td>\n      <td>NaN</td>\n      <td>NaN</td>\n      <td>NaN</td>\n      <td>NaN</td>\n      <td>1.444444</td>\n      <td>0.722222</td>\n    </tr>\n    <tr>\n      <th>1</th>\n      <td>14</td>\n      <td>10</td>\n      <td>2</td>\n      <td>NaN</td>\n      <td>NaN</td>\n      <td>NaN</td>\n      <td>NaN</td>\n      <td>NaN</td>\n      <td>1.400000</td>\n      <td>0.700000</td>\n    </tr>\n    <tr>\n      <th>2</th>\n      <td>15</td>\n      <td>11</td>\n      <td>2</td>\n      <td>NaN</td>\n      <td>NaN</td>\n      <td>NaN</td>\n      <td>NaN</td>\n      <td>NaN</td>\n      <td>1.363636</td>\n      <td>0.681818</td>\n    </tr>\n    <tr>\n      <th>3</th>\n      <td>16</td>\n      <td>12</td>\n      <td>2</td>\n      <td>NaN</td>\n      <td>NaN</td>\n      <td>NaN</td>\n      <td>NaN</td>\n      <td>NaN</td>\n      <td>1.333333</td>\n      <td>0.666667</td>\n    </tr>\n    <tr>\n      <th>4</th>\n      <td>12</td>\n      <td>8</td>\n      <td>2</td>\n      <td>NaN</td>\n      <td>NaN</td>\n      <td>NaN</td>\n      <td>NaN</td>\n      <td>NaN</td>\n      <td>1.500000</td>\n      <td>0.750000</td>\n    </tr>\n    <tr>\n      <th>5</th>\n      <td>11</td>\n      <td>7</td>\n      <td>2</td>\n      <td>NaN</td>\n      <td>NaN</td>\n      <td>NaN</td>\n      <td>NaN</td>\n      <td>NaN</td>\n      <td>1.571429</td>\n      <td>0.785714</td>\n    </tr>\n    <tr>\n      <th>6</th>\n      <td>10</td>\n      <td>6</td>\n      <td>2</td>\n      <td>NaN</td>\n      <td>NaN</td>\n      <td>NaN</td>\n      <td>NaN</td>\n      <td>NaN</td>\n      <td>1.666667</td>\n      <td>0.833333</td>\n    </tr>\n    <tr>\n      <th>7</th>\n      <td>9</td>\n      <td>5</td>\n      <td>2</td>\n      <td>NaN</td>\n      <td>NaN</td>\n      <td>NaN</td>\n      <td>NaN</td>\n      <td>NaN</td>\n      <td>1.800000</td>\n      <td>0.900000</td>\n    </tr>\n    <tr>\n      <th>8</th>\n      <td>10</td>\n      <td>6</td>\n      <td>3</td>\n      <td>NaN</td>\n      <td>NaN</td>\n      <td>NaN</td>\n      <td>NaN</td>\n      <td>NaN</td>\n      <td>1.666667</td>\n      <td>0.555556</td>\n    </tr>\n    <tr>\n      <th>9</th>\n      <td>10</td>\n      <td>6</td>\n      <td>4</td>\n      <td>NaN</td>\n      <td>NaN</td>\n      <td>NaN</td>\n      <td>NaN</td>\n      <td>NaN</td>\n      <td>1.666667</td>\n      <td>0.416667</td>\n    </tr>\n    <tr>\n      <th>10</th>\n      <td>10</td>\n      <td>6</td>\n      <td>5</td>\n      <td>NaN</td>\n      <td>NaN</td>\n      <td>NaN</td>\n      <td>NaN</td>\n      <td>NaN</td>\n      <td>1.666667</td>\n      <td>0.333333</td>\n    </tr>\n    <tr>\n      <th>11</th>\n      <td>10</td>\n      <td>6</td>\n      <td>6</td>\n      <td>NaN</td>\n      <td>NaN</td>\n      <td>NaN</td>\n      <td>NaN</td>\n      <td>NaN</td>\n      <td>1.666667</td>\n      <td>0.277778</td>\n    </tr>\n    <tr>\n      <th>12</th>\n      <td>10</td>\n      <td>6</td>\n      <td>3</td>\n      <td>NaN</td>\n      <td>NaN</td>\n      <td>NaN</td>\n      <td>NaN</td>\n      <td>NaN</td>\n      <td>1.666667</td>\n      <td>0.555556</td>\n    </tr>\n    <tr>\n      <th>13</th>\n      <td>11</td>\n      <td>7</td>\n      <td>4</td>\n      <td>NaN</td>\n      <td>NaN</td>\n      <td>NaN</td>\n      <td>NaN</td>\n      <td>NaN</td>\n      <td>1.571429</td>\n      <td>0.392857</td>\n    </tr>\n    <tr>\n      <th>14</th>\n      <td>12</td>\n      <td>8</td>\n      <td>5</td>\n      <td>NaN</td>\n      <td>NaN</td>\n      <td>NaN</td>\n      <td>NaN</td>\n      <td>NaN</td>\n      <td>1.500000</td>\n      <td>0.300000</td>\n    </tr>\n    <tr>\n      <th>15</th>\n      <td>13</td>\n      <td>9</td>\n      <td>6</td>\n      <td>NaN</td>\n      <td>NaN</td>\n      <td>NaN</td>\n      <td>NaN</td>\n      <td>NaN</td>\n      <td>1.444444</td>\n      <td>0.240741</td>\n    </tr>\n  </tbody>\n</table>\n</div>"
     },
     "execution_count": 20,
     "metadata": {},
     "output_type": "execute_result"
    }
   ],
   "source": [
    "data"
   ],
   "metadata": {
    "collapsed": false,
    "pycharm": {
     "name": "#%%\n"
    }
   }
  },
  {
   "cell_type": "code",
   "execution_count": 21,
   "outputs": [],
   "source": [
    "lammda = data['lamda']\n",
    "miiu = data['miu']\n",
    "cc= data['c']\n",
    "roow = data['row']\n",
    "roow_by_c = data['row by c']"
   ],
   "metadata": {
    "collapsed": false,
    "pycharm": {
     "name": "#%%\n"
    }
   }
  },
  {
   "cell_type": "code",
   "execution_count": 22,
   "outputs": [],
   "source": [
    "p = []\n",
    "lq =[]\n",
    "ls = []\n",
    "wq = []\n",
    "ws = []\n",
    "for i in range(0,len(lammda)):\n",
    "    lamda = lammda[i]\n",
    "    miu = miiu[i]\n",
    "    c = cc[i]\n",
    "    row = lammda[i]/miiu[i]\n",
    "    row_by_c = row/c\n",
    "    sum = 0\n",
    "\n",
    "    for n in range(0,c):\n",
    "        f =math.factorial(n)\n",
    "        a =(row**n)/f\n",
    "        sum= sum+ a\n",
    "    second = ((row**c)/math.factorial(c))\n",
    "    third = (1/(1-row_by_c))\n",
    "    final = 1/(sum+second*third)\n",
    "    p.append(final)\n",
    "\n",
    "    # determining lq\n",
    "    lqq = ((row**(c+1))*final)/((math.factorial(c-1))*((c-row)**2))\n",
    "    lq.append(lqq)\n",
    "\n",
    "    # determining ls\n",
    "    lls = lqq+row\n",
    "    ls.append(lls)\n",
    "\n",
    "    # determining Wq\n",
    "    wqq = (lqq/lamda)*60\n",
    "    wq.append(wqq)\n",
    "\n",
    "    # determining Ws\n",
    "    wss = (lls/lamda)*60\n",
    "    ws.append(wss)\n"
   ],
   "metadata": {
    "collapsed": false,
    "pycharm": {
     "name": "#%%\n"
    }
   }
  },
  {
   "cell_type": "code",
   "execution_count": 23,
   "outputs": [],
   "source": [
    "data['P0'] = p\n",
    "data['Lq'] = lq\n",
    "data['Ls'] = ls\n",
    "data['Wq'] = wq\n",
    "data['Ws'] = ws"
   ],
   "metadata": {
    "collapsed": false,
    "pycharm": {
     "name": "#%%\n"
    }
   }
  },
  {
   "cell_type": "code",
   "execution_count": 24,
   "outputs": [
    {
     "data": {
      "text/plain": "    lamda  miu  c        P0        Ls        Lq         Ws         Wq  \\\n0      13    9  2  0.161290  3.019355  1.574910  13.935484   7.268817   \n1      14   10  2  0.176471  2.745098  1.345098  11.764706   5.764706   \n2      15   11  2  0.189189  2.548263  1.184626  10.193050   4.738505   \n3      16   12  2  0.200000  2.400000  1.066667   9.000000   4.000000   \n4      12    8  2  0.142857  3.428571  1.928571  17.142857   9.642857   \n5      11    7  2  0.120000  4.106667  2.535238  22.400000  13.828571   \n6      10    6  2  0.090909  5.454545  3.787879  32.727273  22.727273   \n7       9    5  2  0.052632  9.473684  7.673684  63.157895  51.157895   \n8      10    6  3  0.172662  2.041367  0.374700  12.248201   2.248201   \n9      10    6  4  0.185932  1.739864  0.073197  10.439182   0.439182   \n10     10    6  5  0.188345  1.681805  0.015138  10.090830   0.090830   \n11     10    6  6  0.188784  1.669659  0.002993  10.017957   0.017957   \n12     10    6  3  0.172662  2.041367  0.374700  12.248201   2.248201   \n13     11    7  4  0.205282  1.627015  0.055587   8.874629   0.303200   \n14     12    8  5  0.222775  1.508631  0.008631   7.543156   0.043156   \n15     13    9  6  0.235830  1.445687  0.001242   6.672401   0.005734   \n\n         row  row by c  \n0   1.444444  0.722222  \n1   1.400000  0.700000  \n2   1.363636  0.681818  \n3   1.333333  0.666667  \n4   1.500000  0.750000  \n5   1.571429  0.785714  \n6   1.666667  0.833333  \n7   1.800000  0.900000  \n8   1.666667  0.555556  \n9   1.666667  0.416667  \n10  1.666667  0.333333  \n11  1.666667  0.277778  \n12  1.666667  0.555556  \n13  1.571429  0.392857  \n14  1.500000  0.300000  \n15  1.444444  0.240741  ",
      "text/html": "<div>\n<style scoped>\n    .dataframe tbody tr th:only-of-type {\n        vertical-align: middle;\n    }\n\n    .dataframe tbody tr th {\n        vertical-align: top;\n    }\n\n    .dataframe thead th {\n        text-align: right;\n    }\n</style>\n<table border=\"1\" class=\"dataframe\">\n  <thead>\n    <tr style=\"text-align: right;\">\n      <th></th>\n      <th>lamda</th>\n      <th>miu</th>\n      <th>c</th>\n      <th>P0</th>\n      <th>Ls</th>\n      <th>Lq</th>\n      <th>Ws</th>\n      <th>Wq</th>\n      <th>row</th>\n      <th>row by c</th>\n    </tr>\n  </thead>\n  <tbody>\n    <tr>\n      <th>0</th>\n      <td>13</td>\n      <td>9</td>\n      <td>2</td>\n      <td>0.161290</td>\n      <td>3.019355</td>\n      <td>1.574910</td>\n      <td>13.935484</td>\n      <td>7.268817</td>\n      <td>1.444444</td>\n      <td>0.722222</td>\n    </tr>\n    <tr>\n      <th>1</th>\n      <td>14</td>\n      <td>10</td>\n      <td>2</td>\n      <td>0.176471</td>\n      <td>2.745098</td>\n      <td>1.345098</td>\n      <td>11.764706</td>\n      <td>5.764706</td>\n      <td>1.400000</td>\n      <td>0.700000</td>\n    </tr>\n    <tr>\n      <th>2</th>\n      <td>15</td>\n      <td>11</td>\n      <td>2</td>\n      <td>0.189189</td>\n      <td>2.548263</td>\n      <td>1.184626</td>\n      <td>10.193050</td>\n      <td>4.738505</td>\n      <td>1.363636</td>\n      <td>0.681818</td>\n    </tr>\n    <tr>\n      <th>3</th>\n      <td>16</td>\n      <td>12</td>\n      <td>2</td>\n      <td>0.200000</td>\n      <td>2.400000</td>\n      <td>1.066667</td>\n      <td>9.000000</td>\n      <td>4.000000</td>\n      <td>1.333333</td>\n      <td>0.666667</td>\n    </tr>\n    <tr>\n      <th>4</th>\n      <td>12</td>\n      <td>8</td>\n      <td>2</td>\n      <td>0.142857</td>\n      <td>3.428571</td>\n      <td>1.928571</td>\n      <td>17.142857</td>\n      <td>9.642857</td>\n      <td>1.500000</td>\n      <td>0.750000</td>\n    </tr>\n    <tr>\n      <th>5</th>\n      <td>11</td>\n      <td>7</td>\n      <td>2</td>\n      <td>0.120000</td>\n      <td>4.106667</td>\n      <td>2.535238</td>\n      <td>22.400000</td>\n      <td>13.828571</td>\n      <td>1.571429</td>\n      <td>0.785714</td>\n    </tr>\n    <tr>\n      <th>6</th>\n      <td>10</td>\n      <td>6</td>\n      <td>2</td>\n      <td>0.090909</td>\n      <td>5.454545</td>\n      <td>3.787879</td>\n      <td>32.727273</td>\n      <td>22.727273</td>\n      <td>1.666667</td>\n      <td>0.833333</td>\n    </tr>\n    <tr>\n      <th>7</th>\n      <td>9</td>\n      <td>5</td>\n      <td>2</td>\n      <td>0.052632</td>\n      <td>9.473684</td>\n      <td>7.673684</td>\n      <td>63.157895</td>\n      <td>51.157895</td>\n      <td>1.800000</td>\n      <td>0.900000</td>\n    </tr>\n    <tr>\n      <th>8</th>\n      <td>10</td>\n      <td>6</td>\n      <td>3</td>\n      <td>0.172662</td>\n      <td>2.041367</td>\n      <td>0.374700</td>\n      <td>12.248201</td>\n      <td>2.248201</td>\n      <td>1.666667</td>\n      <td>0.555556</td>\n    </tr>\n    <tr>\n      <th>9</th>\n      <td>10</td>\n      <td>6</td>\n      <td>4</td>\n      <td>0.185932</td>\n      <td>1.739864</td>\n      <td>0.073197</td>\n      <td>10.439182</td>\n      <td>0.439182</td>\n      <td>1.666667</td>\n      <td>0.416667</td>\n    </tr>\n    <tr>\n      <th>10</th>\n      <td>10</td>\n      <td>6</td>\n      <td>5</td>\n      <td>0.188345</td>\n      <td>1.681805</td>\n      <td>0.015138</td>\n      <td>10.090830</td>\n      <td>0.090830</td>\n      <td>1.666667</td>\n      <td>0.333333</td>\n    </tr>\n    <tr>\n      <th>11</th>\n      <td>10</td>\n      <td>6</td>\n      <td>6</td>\n      <td>0.188784</td>\n      <td>1.669659</td>\n      <td>0.002993</td>\n      <td>10.017957</td>\n      <td>0.017957</td>\n      <td>1.666667</td>\n      <td>0.277778</td>\n    </tr>\n    <tr>\n      <th>12</th>\n      <td>10</td>\n      <td>6</td>\n      <td>3</td>\n      <td>0.172662</td>\n      <td>2.041367</td>\n      <td>0.374700</td>\n      <td>12.248201</td>\n      <td>2.248201</td>\n      <td>1.666667</td>\n      <td>0.555556</td>\n    </tr>\n    <tr>\n      <th>13</th>\n      <td>11</td>\n      <td>7</td>\n      <td>4</td>\n      <td>0.205282</td>\n      <td>1.627015</td>\n      <td>0.055587</td>\n      <td>8.874629</td>\n      <td>0.303200</td>\n      <td>1.571429</td>\n      <td>0.392857</td>\n    </tr>\n    <tr>\n      <th>14</th>\n      <td>12</td>\n      <td>8</td>\n      <td>5</td>\n      <td>0.222775</td>\n      <td>1.508631</td>\n      <td>0.008631</td>\n      <td>7.543156</td>\n      <td>0.043156</td>\n      <td>1.500000</td>\n      <td>0.300000</td>\n    </tr>\n    <tr>\n      <th>15</th>\n      <td>13</td>\n      <td>9</td>\n      <td>6</td>\n      <td>0.235830</td>\n      <td>1.445687</td>\n      <td>0.001242</td>\n      <td>6.672401</td>\n      <td>0.005734</td>\n      <td>1.444444</td>\n      <td>0.240741</td>\n    </tr>\n  </tbody>\n</table>\n</div>"
     },
     "execution_count": 24,
     "metadata": {},
     "output_type": "execute_result"
    }
   ],
   "source": [
    "data"
   ],
   "metadata": {
    "collapsed": false,
    "pycharm": {
     "name": "#%%\n"
    }
   }
  },
  {
   "cell_type": "code",
   "execution_count": 25,
   "outputs": [],
   "source": [
    "data.to_excel(\"Multiple Server Infinite Queue Length Infinite Queue Population Model Output.xlsx\")"
   ],
   "metadata": {
    "collapsed": false,
    "pycharm": {
     "name": "#%%\n"
    }
   }
  },
  {
   "cell_type": "markdown",
   "source": [
    "p = []\n",
    "for i in range(0,len(lammda)):\n",
    "    lamda = lammda[i]\n",
    "    miu = miiu[i]\n",
    "    c = cc[i]\n",
    "    row = lammda[i]/miiu[i]\n",
    "    row_by_c = row/c\n",
    "    sum = 0\n",
    "\n",
    "    for n in range(0,c):\n",
    "        f =math.factorial(n)\n",
    "        a =(row**n)/f\n",
    "        sum= sum+ a\n",
    "    second = ((row**c)/math.factorial(c))\n",
    "    third = (1/(1-row_by_c))\n",
    "    final = 1/(sum+second*third)\n",
    "    p.append(final)"
   ],
   "metadata": {
    "collapsed": false,
    "pycharm": {
     "name": "#%% md\n"
    }
   }
  },
  {
   "cell_type": "code",
   "execution_count": 17,
   "outputs": [
    {
     "data": {
      "text/plain": "[7.268817204301076,\n 5.764705882352939,\n 4.738504738504736,\n 3.999999999999999,\n 9.642857142857142,\n 13.82857142857143,\n 22.727272727272737,\n 51.15789473684213,\n 2.248201438848921,\n 0.4391820673178274,\n 0.0908298212469118,\n 0.01795697336794097,\n 2.248201438848921,\n 0.3032002631421814,\n 0.04315550188250338,\n 0.0057338943661009445]"
     },
     "execution_count": 17,
     "metadata": {},
     "output_type": "execute_result"
    }
   ],
   "source": [
    "wq"
   ],
   "metadata": {
    "collapsed": false,
    "pycharm": {
     "name": "#%%\n"
    }
   }
  },
  {
   "cell_type": "markdown",
   "source": [
    "data['P0']= p"
   ],
   "metadata": {
    "collapsed": false,
    "pycharm": {
     "name": "#%% md\n"
    }
   }
  },
  {
   "cell_type": "markdown",
   "source": [
    "lamda = 10\n",
    "miu = 6\n",
    "c = 2\n",
    "row = lamda/miu\n",
    "row_by_c = row/c\n",
    "sum = 0\n",
    "\n",
    "for n in range(0,c):\n",
    "    f =math.factorial(n)\n",
    "    a =(row**n)/f\n",
    "    sum= sum+ a\n",
    "second = ((row**c)/math.factorial(c))\n",
    "third = (1/(1-row_by_c))\n",
    "final = 1/(sum+second*third)"
   ],
   "metadata": {
    "collapsed": false,
    "pycharm": {
     "name": "#%% md\n"
    }
   }
  }
 ],
 "metadata": {
  "kernelspec": {
   "display_name": "Python 3",
   "language": "python",
   "name": "python3"
  },
  "language_info": {
   "codemirror_mode": {
    "name": "ipython",
    "version": 2
   },
   "file_extension": ".py",
   "mimetype": "text/x-python",
   "name": "python",
   "nbconvert_exporter": "python",
   "pygments_lexer": "ipython2",
   "version": "2.7.6"
  }
 },
 "nbformat": 4,
 "nbformat_minor": 0
}