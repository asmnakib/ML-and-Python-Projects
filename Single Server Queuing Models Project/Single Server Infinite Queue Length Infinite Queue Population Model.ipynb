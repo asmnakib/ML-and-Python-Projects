{
 "cells": [
  {
   "cell_type": "code",
   "execution_count": 1,
   "outputs": [],
   "source": [
    "import math\n",
    "import pandas as pd"
   ],
   "metadata": {
    "collapsed": false,
    "pycharm": {
     "name": "#%%\n"
    }
   }
  },
  {
   "cell_type": "code",
   "execution_count": 2,
   "outputs": [],
   "source": [
    "data = pd.read_excel('Single Server Infinite Queue Length Infinite Queue Population Model Data Set.xlsx')"
   ],
   "metadata": {
    "collapsed": false,
    "pycharm": {
     "name": "#%%\n"
    }
   }
  },
  {
   "cell_type": "code",
   "execution_count": 3,
   "outputs": [
    {
     "data": {
      "text/plain": "    lamda  miu  P0  Ls  Lq  Ws  Wq       row\n0       8    9 NaN NaN NaN NaN NaN  0.888889\n1       9   10 NaN NaN NaN NaN NaN  0.900000\n2      10   11 NaN NaN NaN NaN NaN  0.909091\n3      11   12 NaN NaN NaN NaN NaN  0.916667\n4       8    9 NaN NaN NaN NaN NaN  0.888889\n5       7    8 NaN NaN NaN NaN NaN  0.875000\n6       6    7 NaN NaN NaN NaN NaN  0.857143\n7       5    6 NaN NaN NaN NaN NaN  0.833333\n8       5    9 NaN NaN NaN NaN NaN  0.555556\n9       6    9 NaN NaN NaN NaN NaN  0.666667\n10      7    9 NaN NaN NaN NaN NaN  0.777778\n11      8    9 NaN NaN NaN NaN NaN  0.888889\n12      8    9 NaN NaN NaN NaN NaN  0.888889\n13      8   10 NaN NaN NaN NaN NaN  0.800000\n14      8   11 NaN NaN NaN NaN NaN  0.727273\n15      8   12 NaN NaN NaN NaN NaN  0.666667",
      "text/html": "<div>\n<style scoped>\n    .dataframe tbody tr th:only-of-type {\n        vertical-align: middle;\n    }\n\n    .dataframe tbody tr th {\n        vertical-align: top;\n    }\n\n    .dataframe thead th {\n        text-align: right;\n    }\n</style>\n<table border=\"1\" class=\"dataframe\">\n  <thead>\n    <tr style=\"text-align: right;\">\n      <th></th>\n      <th>lamda</th>\n      <th>miu</th>\n      <th>P0</th>\n      <th>Ls</th>\n      <th>Lq</th>\n      <th>Ws</th>\n      <th>Wq</th>\n      <th>row</th>\n    </tr>\n  </thead>\n  <tbody>\n    <tr>\n      <th>0</th>\n      <td>8</td>\n      <td>9</td>\n      <td>NaN</td>\n      <td>NaN</td>\n      <td>NaN</td>\n      <td>NaN</td>\n      <td>NaN</td>\n      <td>0.888889</td>\n    </tr>\n    <tr>\n      <th>1</th>\n      <td>9</td>\n      <td>10</td>\n      <td>NaN</td>\n      <td>NaN</td>\n      <td>NaN</td>\n      <td>NaN</td>\n      <td>NaN</td>\n      <td>0.900000</td>\n    </tr>\n    <tr>\n      <th>2</th>\n      <td>10</td>\n      <td>11</td>\n      <td>NaN</td>\n      <td>NaN</td>\n      <td>NaN</td>\n      <td>NaN</td>\n      <td>NaN</td>\n      <td>0.909091</td>\n    </tr>\n    <tr>\n      <th>3</th>\n      <td>11</td>\n      <td>12</td>\n      <td>NaN</td>\n      <td>NaN</td>\n      <td>NaN</td>\n      <td>NaN</td>\n      <td>NaN</td>\n      <td>0.916667</td>\n    </tr>\n    <tr>\n      <th>4</th>\n      <td>8</td>\n      <td>9</td>\n      <td>NaN</td>\n      <td>NaN</td>\n      <td>NaN</td>\n      <td>NaN</td>\n      <td>NaN</td>\n      <td>0.888889</td>\n    </tr>\n    <tr>\n      <th>5</th>\n      <td>7</td>\n      <td>8</td>\n      <td>NaN</td>\n      <td>NaN</td>\n      <td>NaN</td>\n      <td>NaN</td>\n      <td>NaN</td>\n      <td>0.875000</td>\n    </tr>\n    <tr>\n      <th>6</th>\n      <td>6</td>\n      <td>7</td>\n      <td>NaN</td>\n      <td>NaN</td>\n      <td>NaN</td>\n      <td>NaN</td>\n      <td>NaN</td>\n      <td>0.857143</td>\n    </tr>\n    <tr>\n      <th>7</th>\n      <td>5</td>\n      <td>6</td>\n      <td>NaN</td>\n      <td>NaN</td>\n      <td>NaN</td>\n      <td>NaN</td>\n      <td>NaN</td>\n      <td>0.833333</td>\n    </tr>\n    <tr>\n      <th>8</th>\n      <td>5</td>\n      <td>9</td>\n      <td>NaN</td>\n      <td>NaN</td>\n      <td>NaN</td>\n      <td>NaN</td>\n      <td>NaN</td>\n      <td>0.555556</td>\n    </tr>\n    <tr>\n      <th>9</th>\n      <td>6</td>\n      <td>9</td>\n      <td>NaN</td>\n      <td>NaN</td>\n      <td>NaN</td>\n      <td>NaN</td>\n      <td>NaN</td>\n      <td>0.666667</td>\n    </tr>\n    <tr>\n      <th>10</th>\n      <td>7</td>\n      <td>9</td>\n      <td>NaN</td>\n      <td>NaN</td>\n      <td>NaN</td>\n      <td>NaN</td>\n      <td>NaN</td>\n      <td>0.777778</td>\n    </tr>\n    <tr>\n      <th>11</th>\n      <td>8</td>\n      <td>9</td>\n      <td>NaN</td>\n      <td>NaN</td>\n      <td>NaN</td>\n      <td>NaN</td>\n      <td>NaN</td>\n      <td>0.888889</td>\n    </tr>\n    <tr>\n      <th>12</th>\n      <td>8</td>\n      <td>9</td>\n      <td>NaN</td>\n      <td>NaN</td>\n      <td>NaN</td>\n      <td>NaN</td>\n      <td>NaN</td>\n      <td>0.888889</td>\n    </tr>\n    <tr>\n      <th>13</th>\n      <td>8</td>\n      <td>10</td>\n      <td>NaN</td>\n      <td>NaN</td>\n      <td>NaN</td>\n      <td>NaN</td>\n      <td>NaN</td>\n      <td>0.800000</td>\n    </tr>\n    <tr>\n      <th>14</th>\n      <td>8</td>\n      <td>11</td>\n      <td>NaN</td>\n      <td>NaN</td>\n      <td>NaN</td>\n      <td>NaN</td>\n      <td>NaN</td>\n      <td>0.727273</td>\n    </tr>\n    <tr>\n      <th>15</th>\n      <td>8</td>\n      <td>12</td>\n      <td>NaN</td>\n      <td>NaN</td>\n      <td>NaN</td>\n      <td>NaN</td>\n      <td>NaN</td>\n      <td>0.666667</td>\n    </tr>\n  </tbody>\n</table>\n</div>"
     },
     "execution_count": 3,
     "metadata": {},
     "output_type": "execute_result"
    }
   ],
   "source": [
    "data"
   ],
   "metadata": {
    "collapsed": false,
    "pycharm": {
     "name": "#%%\n"
    }
   }
  },
  {
   "cell_type": "code",
   "execution_count": 4,
   "outputs": [],
   "source": [
    "lammda = data['lamda']\n",
    "miiu = data['miu']\n",
    "roow = data['row']"
   ],
   "metadata": {
    "collapsed": false,
    "pycharm": {
     "name": "#%%\n"
    }
   }
  },
  {
   "cell_type": "code",
   "execution_count": 5,
   "outputs": [
    {
     "name": "stdout",
     "output_type": "stream",
     "text": [
      "53.3333333333333\n",
      "59.99999999999997\n",
      "54.00000000000001\n",
      "60.000000000000014\n",
      "54.54545454545453\n",
      "59.99999999999998\n",
      "54.99999999999997\n",
      "59.99999999999997\n",
      "53.3333333333333\n",
      "59.99999999999997\n",
      "52.5\n",
      "60.0\n",
      "51.4285714285714\n",
      "59.99999999999997\n",
      "50.00000000000002\n",
      "60.00000000000003\n",
      "8.333333333333336\n",
      "15.000000000000004\n",
      "13.33333333333333\n",
      "20.0\n",
      "23.333333333333336\n",
      "30.000000000000007\n",
      "53.3333333333333\n",
      "59.99999999999997\n",
      "53.3333333333333\n",
      "59.99999999999997\n",
      "24.000000000000007\n",
      "30.000000000000007\n",
      "14.545454545454547\n",
      "20.000000000000004\n",
      "9.999999999999998\n",
      "14.999999999999998\n"
     ]
    }
   ],
   "source": [
    "p = []\n",
    "lq =[]\n",
    "ls = []\n",
    "wq = []\n",
    "ws = []\n",
    "for i in range(0,len(lammda)):\n",
    "    lamda = lammda[i]\n",
    "    miu = miiu[i]\n",
    "\n",
    "    row = lammda[i]/miiu[i]\n",
    "\n",
    "\n",
    "    p_val = 1- row\n",
    "    p.append(p_val)\n",
    "\n",
    "    # determining ls\n",
    "    lls = (row/(1-row))\n",
    "    ls.append(lls)\n",
    "\n",
    "    # determining lq\n",
    "    lqq = lls-row\n",
    "    lq.append(lqq)\n",
    "\n",
    "    # determining Wq\n",
    "    wqq = (lqq/lamda)*60\n",
    "    wq.append(wqq)\n",
    "    print(wqq)\n",
    "    # determining Ws\n",
    "    wss = (lls/lamda)*60\n",
    "    ws.append(wss)\n",
    "    print(wss)"
   ],
   "metadata": {
    "collapsed": false,
    "pycharm": {
     "name": "#%%\n"
    }
   }
  },
  {
   "cell_type": "code",
   "execution_count": 6,
   "outputs": [],
   "source": [
    "data['P0'] = p\n",
    "data['Lq'] = lq\n",
    "data['Ls'] = ls\n",
    "data['Wq'] = wq\n",
    "data['Ws'] = ws"
   ],
   "metadata": {
    "collapsed": false,
    "pycharm": {
     "name": "#%%\n"
    }
   }
  },
  {
   "cell_type": "code",
   "execution_count": 7,
   "outputs": [
    {
     "data": {
      "text/plain": "    lamda  miu        P0         Ls         Lq    Ws         Wq       row\n0       8    9  0.111111   8.000000   7.111111  60.0  53.333333  0.888889\n1       9   10  0.100000   9.000000   8.100000  60.0  54.000000  0.900000\n2      10   11  0.090909  10.000000   9.090909  60.0  54.545455  0.909091\n3      11   12  0.083333  11.000000  10.083333  60.0  55.000000  0.916667\n4       8    9  0.111111   8.000000   7.111111  60.0  53.333333  0.888889\n5       7    8  0.125000   7.000000   6.125000  60.0  52.500000  0.875000\n6       6    7  0.142857   6.000000   5.142857  60.0  51.428571  0.857143\n7       5    6  0.166667   5.000000   4.166667  60.0  50.000000  0.833333\n8       5    9  0.444444   1.250000   0.694444  15.0   8.333333  0.555556\n9       6    9  0.333333   2.000000   1.333333  20.0  13.333333  0.666667\n10      7    9  0.222222   3.500000   2.722222  30.0  23.333333  0.777778\n11      8    9  0.111111   8.000000   7.111111  60.0  53.333333  0.888889\n12      8    9  0.111111   8.000000   7.111111  60.0  53.333333  0.888889\n13      8   10  0.200000   4.000000   3.200000  30.0  24.000000  0.800000\n14      8   11  0.272727   2.666667   1.939394  20.0  14.545455  0.727273\n15      8   12  0.333333   2.000000   1.333333  15.0  10.000000  0.666667",
      "text/html": "<div>\n<style scoped>\n    .dataframe tbody tr th:only-of-type {\n        vertical-align: middle;\n    }\n\n    .dataframe tbody tr th {\n        vertical-align: top;\n    }\n\n    .dataframe thead th {\n        text-align: right;\n    }\n</style>\n<table border=\"1\" class=\"dataframe\">\n  <thead>\n    <tr style=\"text-align: right;\">\n      <th></th>\n      <th>lamda</th>\n      <th>miu</th>\n      <th>P0</th>\n      <th>Ls</th>\n      <th>Lq</th>\n      <th>Ws</th>\n      <th>Wq</th>\n      <th>row</th>\n    </tr>\n  </thead>\n  <tbody>\n    <tr>\n      <th>0</th>\n      <td>8</td>\n      <td>9</td>\n      <td>0.111111</td>\n      <td>8.000000</td>\n      <td>7.111111</td>\n      <td>60.0</td>\n      <td>53.333333</td>\n      <td>0.888889</td>\n    </tr>\n    <tr>\n      <th>1</th>\n      <td>9</td>\n      <td>10</td>\n      <td>0.100000</td>\n      <td>9.000000</td>\n      <td>8.100000</td>\n      <td>60.0</td>\n      <td>54.000000</td>\n      <td>0.900000</td>\n    </tr>\n    <tr>\n      <th>2</th>\n      <td>10</td>\n      <td>11</td>\n      <td>0.090909</td>\n      <td>10.000000</td>\n      <td>9.090909</td>\n      <td>60.0</td>\n      <td>54.545455</td>\n      <td>0.909091</td>\n    </tr>\n    <tr>\n      <th>3</th>\n      <td>11</td>\n      <td>12</td>\n      <td>0.083333</td>\n      <td>11.000000</td>\n      <td>10.083333</td>\n      <td>60.0</td>\n      <td>55.000000</td>\n      <td>0.916667</td>\n    </tr>\n    <tr>\n      <th>4</th>\n      <td>8</td>\n      <td>9</td>\n      <td>0.111111</td>\n      <td>8.000000</td>\n      <td>7.111111</td>\n      <td>60.0</td>\n      <td>53.333333</td>\n      <td>0.888889</td>\n    </tr>\n    <tr>\n      <th>5</th>\n      <td>7</td>\n      <td>8</td>\n      <td>0.125000</td>\n      <td>7.000000</td>\n      <td>6.125000</td>\n      <td>60.0</td>\n      <td>52.500000</td>\n      <td>0.875000</td>\n    </tr>\n    <tr>\n      <th>6</th>\n      <td>6</td>\n      <td>7</td>\n      <td>0.142857</td>\n      <td>6.000000</td>\n      <td>5.142857</td>\n      <td>60.0</td>\n      <td>51.428571</td>\n      <td>0.857143</td>\n    </tr>\n    <tr>\n      <th>7</th>\n      <td>5</td>\n      <td>6</td>\n      <td>0.166667</td>\n      <td>5.000000</td>\n      <td>4.166667</td>\n      <td>60.0</td>\n      <td>50.000000</td>\n      <td>0.833333</td>\n    </tr>\n    <tr>\n      <th>8</th>\n      <td>5</td>\n      <td>9</td>\n      <td>0.444444</td>\n      <td>1.250000</td>\n      <td>0.694444</td>\n      <td>15.0</td>\n      <td>8.333333</td>\n      <td>0.555556</td>\n    </tr>\n    <tr>\n      <th>9</th>\n      <td>6</td>\n      <td>9</td>\n      <td>0.333333</td>\n      <td>2.000000</td>\n      <td>1.333333</td>\n      <td>20.0</td>\n      <td>13.333333</td>\n      <td>0.666667</td>\n    </tr>\n    <tr>\n      <th>10</th>\n      <td>7</td>\n      <td>9</td>\n      <td>0.222222</td>\n      <td>3.500000</td>\n      <td>2.722222</td>\n      <td>30.0</td>\n      <td>23.333333</td>\n      <td>0.777778</td>\n    </tr>\n    <tr>\n      <th>11</th>\n      <td>8</td>\n      <td>9</td>\n      <td>0.111111</td>\n      <td>8.000000</td>\n      <td>7.111111</td>\n      <td>60.0</td>\n      <td>53.333333</td>\n      <td>0.888889</td>\n    </tr>\n    <tr>\n      <th>12</th>\n      <td>8</td>\n      <td>9</td>\n      <td>0.111111</td>\n      <td>8.000000</td>\n      <td>7.111111</td>\n      <td>60.0</td>\n      <td>53.333333</td>\n      <td>0.888889</td>\n    </tr>\n    <tr>\n      <th>13</th>\n      <td>8</td>\n      <td>10</td>\n      <td>0.200000</td>\n      <td>4.000000</td>\n      <td>3.200000</td>\n      <td>30.0</td>\n      <td>24.000000</td>\n      <td>0.800000</td>\n    </tr>\n    <tr>\n      <th>14</th>\n      <td>8</td>\n      <td>11</td>\n      <td>0.272727</td>\n      <td>2.666667</td>\n      <td>1.939394</td>\n      <td>20.0</td>\n      <td>14.545455</td>\n      <td>0.727273</td>\n    </tr>\n    <tr>\n      <th>15</th>\n      <td>8</td>\n      <td>12</td>\n      <td>0.333333</td>\n      <td>2.000000</td>\n      <td>1.333333</td>\n      <td>15.0</td>\n      <td>10.000000</td>\n      <td>0.666667</td>\n    </tr>\n  </tbody>\n</table>\n</div>"
     },
     "execution_count": 7,
     "metadata": {},
     "output_type": "execute_result"
    }
   ],
   "source": [
    "data"
   ],
   "metadata": {
    "collapsed": false,
    "pycharm": {
     "name": "#%%\n"
    }
   }
  },
  {
   "cell_type": "code",
   "execution_count": 8,
   "outputs": [],
   "source": [
    "data.to_excel(\"Single Server Infinite Queue Length Infinite Queue Population Model Output.xlsx\")"
   ],
   "metadata": {
    "collapsed": false,
    "pycharm": {
     "name": "#%%\n"
    }
   }
  },
  {
   "cell_type": "code",
   "execution_count": 9,
   "outputs": [
    {
     "data": {
      "text/plain": "    lamda  miu        P0         Ls         Lq    Ws         Wq       row\n0       8    9  0.111111   8.000000   7.111111  60.0  53.333333  0.888889\n1       9   10  0.100000   9.000000   8.100000  60.0  54.000000  0.900000\n2      10   11  0.090909  10.000000   9.090909  60.0  54.545455  0.909091\n3      11   12  0.083333  11.000000  10.083333  60.0  55.000000  0.916667\n4       8    9  0.111111   8.000000   7.111111  60.0  53.333333  0.888889\n5       7    8  0.125000   7.000000   6.125000  60.0  52.500000  0.875000\n6       6    7  0.142857   6.000000   5.142857  60.0  51.428571  0.857143\n7       5    6  0.166667   5.000000   4.166667  60.0  50.000000  0.833333\n8       5    9  0.444444   1.250000   0.694444  15.0   8.333333  0.555556\n9       6    9  0.333333   2.000000   1.333333  20.0  13.333333  0.666667\n10      7    9  0.222222   3.500000   2.722222  30.0  23.333333  0.777778\n11      8    9  0.111111   8.000000   7.111111  60.0  53.333333  0.888889\n12      8    9  0.111111   8.000000   7.111111  60.0  53.333333  0.888889\n13      8   10  0.200000   4.000000   3.200000  30.0  24.000000  0.800000\n14      8   11  0.272727   2.666667   1.939394  20.0  14.545455  0.727273\n15      8   12  0.333333   2.000000   1.333333  15.0  10.000000  0.666667",
      "text/html": "<div>\n<style scoped>\n    .dataframe tbody tr th:only-of-type {\n        vertical-align: middle;\n    }\n\n    .dataframe tbody tr th {\n        vertical-align: top;\n    }\n\n    .dataframe thead th {\n        text-align: right;\n    }\n</style>\n<table border=\"1\" class=\"dataframe\">\n  <thead>\n    <tr style=\"text-align: right;\">\n      <th></th>\n      <th>lamda</th>\n      <th>miu</th>\n      <th>P0</th>\n      <th>Ls</th>\n      <th>Lq</th>\n      <th>Ws</th>\n      <th>Wq</th>\n      <th>row</th>\n    </tr>\n  </thead>\n  <tbody>\n    <tr>\n      <th>0</th>\n      <td>8</td>\n      <td>9</td>\n      <td>0.111111</td>\n      <td>8.000000</td>\n      <td>7.111111</td>\n      <td>60.0</td>\n      <td>53.333333</td>\n      <td>0.888889</td>\n    </tr>\n    <tr>\n      <th>1</th>\n      <td>9</td>\n      <td>10</td>\n      <td>0.100000</td>\n      <td>9.000000</td>\n      <td>8.100000</td>\n      <td>60.0</td>\n      <td>54.000000</td>\n      <td>0.900000</td>\n    </tr>\n    <tr>\n      <th>2</th>\n      <td>10</td>\n      <td>11</td>\n      <td>0.090909</td>\n      <td>10.000000</td>\n      <td>9.090909</td>\n      <td>60.0</td>\n      <td>54.545455</td>\n      <td>0.909091</td>\n    </tr>\n    <tr>\n      <th>3</th>\n      <td>11</td>\n      <td>12</td>\n      <td>0.083333</td>\n      <td>11.000000</td>\n      <td>10.083333</td>\n      <td>60.0</td>\n      <td>55.000000</td>\n      <td>0.916667</td>\n    </tr>\n    <tr>\n      <th>4</th>\n      <td>8</td>\n      <td>9</td>\n      <td>0.111111</td>\n      <td>8.000000</td>\n      <td>7.111111</td>\n      <td>60.0</td>\n      <td>53.333333</td>\n      <td>0.888889</td>\n    </tr>\n    <tr>\n      <th>5</th>\n      <td>7</td>\n      <td>8</td>\n      <td>0.125000</td>\n      <td>7.000000</td>\n      <td>6.125000</td>\n      <td>60.0</td>\n      <td>52.500000</td>\n      <td>0.875000</td>\n    </tr>\n    <tr>\n      <th>6</th>\n      <td>6</td>\n      <td>7</td>\n      <td>0.142857</td>\n      <td>6.000000</td>\n      <td>5.142857</td>\n      <td>60.0</td>\n      <td>51.428571</td>\n      <td>0.857143</td>\n    </tr>\n    <tr>\n      <th>7</th>\n      <td>5</td>\n      <td>6</td>\n      <td>0.166667</td>\n      <td>5.000000</td>\n      <td>4.166667</td>\n      <td>60.0</td>\n      <td>50.000000</td>\n      <td>0.833333</td>\n    </tr>\n    <tr>\n      <th>8</th>\n      <td>5</td>\n      <td>9</td>\n      <td>0.444444</td>\n      <td>1.250000</td>\n      <td>0.694444</td>\n      <td>15.0</td>\n      <td>8.333333</td>\n      <td>0.555556</td>\n    </tr>\n    <tr>\n      <th>9</th>\n      <td>6</td>\n      <td>9</td>\n      <td>0.333333</td>\n      <td>2.000000</td>\n      <td>1.333333</td>\n      <td>20.0</td>\n      <td>13.333333</td>\n      <td>0.666667</td>\n    </tr>\n    <tr>\n      <th>10</th>\n      <td>7</td>\n      <td>9</td>\n      <td>0.222222</td>\n      <td>3.500000</td>\n      <td>2.722222</td>\n      <td>30.0</td>\n      <td>23.333333</td>\n      <td>0.777778</td>\n    </tr>\n    <tr>\n      <th>11</th>\n      <td>8</td>\n      <td>9</td>\n      <td>0.111111</td>\n      <td>8.000000</td>\n      <td>7.111111</td>\n      <td>60.0</td>\n      <td>53.333333</td>\n      <td>0.888889</td>\n    </tr>\n    <tr>\n      <th>12</th>\n      <td>8</td>\n      <td>9</td>\n      <td>0.111111</td>\n      <td>8.000000</td>\n      <td>7.111111</td>\n      <td>60.0</td>\n      <td>53.333333</td>\n      <td>0.888889</td>\n    </tr>\n    <tr>\n      <th>13</th>\n      <td>8</td>\n      <td>10</td>\n      <td>0.200000</td>\n      <td>4.000000</td>\n      <td>3.200000</td>\n      <td>30.0</td>\n      <td>24.000000</td>\n      <td>0.800000</td>\n    </tr>\n    <tr>\n      <th>14</th>\n      <td>8</td>\n      <td>11</td>\n      <td>0.272727</td>\n      <td>2.666667</td>\n      <td>1.939394</td>\n      <td>20.0</td>\n      <td>14.545455</td>\n      <td>0.727273</td>\n    </tr>\n    <tr>\n      <th>15</th>\n      <td>8</td>\n      <td>12</td>\n      <td>0.333333</td>\n      <td>2.000000</td>\n      <td>1.333333</td>\n      <td>15.0</td>\n      <td>10.000000</td>\n      <td>0.666667</td>\n    </tr>\n  </tbody>\n</table>\n</div>"
     },
     "execution_count": 9,
     "metadata": {},
     "output_type": "execute_result"
    }
   ],
   "source": [
    "data"
   ],
   "metadata": {
    "collapsed": false,
    "pycharm": {
     "name": "#%%\n"
    }
   }
  },
  {
   "cell_type": "code",
   "execution_count": null,
   "outputs": [],
   "source": [],
   "metadata": {
    "collapsed": false,
    "pycharm": {
     "name": "#%%\n"
    }
   }
  }
 ],
 "metadata": {
  "kernelspec": {
   "display_name": "Python 3",
   "language": "python",
   "name": "python3"
  },
  "language_info": {
   "codemirror_mode": {
    "name": "ipython",
    "version": 2
   },
   "file_extension": ".py",
   "mimetype": "text/x-python",
   "name": "python",
   "nbconvert_exporter": "python",
   "pygments_lexer": "ipython2",
   "version": "2.7.6"
  }
 },
 "nbformat": 4,
 "nbformat_minor": 0
}