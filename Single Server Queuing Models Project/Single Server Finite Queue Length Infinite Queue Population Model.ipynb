{
 "cells": [
  {
   "cell_type": "code",
   "execution_count": 1,
   "outputs": [],
   "source": [
    "import math\n",
    "import pandas as pd"
   ],
   "metadata": {
    "collapsed": false,
    "pycharm": {
     "name": "#%%\n"
    }
   }
  },
  {
   "cell_type": "code",
   "execution_count": 2,
   "outputs": [],
   "source": [
    "data = pd.read_excel('Single Server Finite Queue Length Infinite Queue Population Model Data Set.xlsx')"
   ],
   "metadata": {
    "collapsed": false,
    "pycharm": {
     "name": "#%%\n"
    }
   }
  },
  {
   "cell_type": "code",
   "execution_count": 3,
   "outputs": [
    {
     "data": {
      "text/plain": "    lamda  miu  P0  Ls  lamda k  Lq  Ws  Wq       row\n0       8    9 NaN NaN      NaN NaN NaN NaN  0.888889\n1       9   10 NaN NaN      NaN NaN NaN NaN  0.900000\n2      10   11 NaN NaN      NaN NaN NaN NaN  0.909091\n3      11   12 NaN NaN      NaN NaN NaN NaN  0.916667\n4       8    9 NaN NaN      NaN NaN NaN NaN  0.888889\n5       7    8 NaN NaN      NaN NaN NaN NaN  0.875000\n6       6    7 NaN NaN      NaN NaN NaN NaN  0.857143\n7       5    6 NaN NaN      NaN NaN NaN NaN  0.833333\n8       5    9 NaN NaN      NaN NaN NaN NaN  0.555556\n9       6    9 NaN NaN      NaN NaN NaN NaN  0.666667\n10      7    9 NaN NaN      NaN NaN NaN NaN  0.777778\n11      8    9 NaN NaN      NaN NaN NaN NaN  0.888889\n12      8    9 NaN NaN      NaN NaN NaN NaN  0.888889\n13      8   10 NaN NaN      NaN NaN NaN NaN  0.800000\n14      8   11 NaN NaN      NaN NaN NaN NaN  0.727273\n15      8   12 NaN NaN      NaN NaN NaN NaN  0.666667",
      "text/html": "<div>\n<style scoped>\n    .dataframe tbody tr th:only-of-type {\n        vertical-align: middle;\n    }\n\n    .dataframe tbody tr th {\n        vertical-align: top;\n    }\n\n    .dataframe thead th {\n        text-align: right;\n    }\n</style>\n<table border=\"1\" class=\"dataframe\">\n  <thead>\n    <tr style=\"text-align: right;\">\n      <th></th>\n      <th>lamda</th>\n      <th>miu</th>\n      <th>P0</th>\n      <th>Ls</th>\n      <th>lamda k</th>\n      <th>Lq</th>\n      <th>Ws</th>\n      <th>Wq</th>\n      <th>row</th>\n    </tr>\n  </thead>\n  <tbody>\n    <tr>\n      <th>0</th>\n      <td>8</td>\n      <td>9</td>\n      <td>NaN</td>\n      <td>NaN</td>\n      <td>NaN</td>\n      <td>NaN</td>\n      <td>NaN</td>\n      <td>NaN</td>\n      <td>0.888889</td>\n    </tr>\n    <tr>\n      <th>1</th>\n      <td>9</td>\n      <td>10</td>\n      <td>NaN</td>\n      <td>NaN</td>\n      <td>NaN</td>\n      <td>NaN</td>\n      <td>NaN</td>\n      <td>NaN</td>\n      <td>0.900000</td>\n    </tr>\n    <tr>\n      <th>2</th>\n      <td>10</td>\n      <td>11</td>\n      <td>NaN</td>\n      <td>NaN</td>\n      <td>NaN</td>\n      <td>NaN</td>\n      <td>NaN</td>\n      <td>NaN</td>\n      <td>0.909091</td>\n    </tr>\n    <tr>\n      <th>3</th>\n      <td>11</td>\n      <td>12</td>\n      <td>NaN</td>\n      <td>NaN</td>\n      <td>NaN</td>\n      <td>NaN</td>\n      <td>NaN</td>\n      <td>NaN</td>\n      <td>0.916667</td>\n    </tr>\n    <tr>\n      <th>4</th>\n      <td>8</td>\n      <td>9</td>\n      <td>NaN</td>\n      <td>NaN</td>\n      <td>NaN</td>\n      <td>NaN</td>\n      <td>NaN</td>\n      <td>NaN</td>\n      <td>0.888889</td>\n    </tr>\n    <tr>\n      <th>5</th>\n      <td>7</td>\n      <td>8</td>\n      <td>NaN</td>\n      <td>NaN</td>\n      <td>NaN</td>\n      <td>NaN</td>\n      <td>NaN</td>\n      <td>NaN</td>\n      <td>0.875000</td>\n    </tr>\n    <tr>\n      <th>6</th>\n      <td>6</td>\n      <td>7</td>\n      <td>NaN</td>\n      <td>NaN</td>\n      <td>NaN</td>\n      <td>NaN</td>\n      <td>NaN</td>\n      <td>NaN</td>\n      <td>0.857143</td>\n    </tr>\n    <tr>\n      <th>7</th>\n      <td>5</td>\n      <td>6</td>\n      <td>NaN</td>\n      <td>NaN</td>\n      <td>NaN</td>\n      <td>NaN</td>\n      <td>NaN</td>\n      <td>NaN</td>\n      <td>0.833333</td>\n    </tr>\n    <tr>\n      <th>8</th>\n      <td>5</td>\n      <td>9</td>\n      <td>NaN</td>\n      <td>NaN</td>\n      <td>NaN</td>\n      <td>NaN</td>\n      <td>NaN</td>\n      <td>NaN</td>\n      <td>0.555556</td>\n    </tr>\n    <tr>\n      <th>9</th>\n      <td>6</td>\n      <td>9</td>\n      <td>NaN</td>\n      <td>NaN</td>\n      <td>NaN</td>\n      <td>NaN</td>\n      <td>NaN</td>\n      <td>NaN</td>\n      <td>0.666667</td>\n    </tr>\n    <tr>\n      <th>10</th>\n      <td>7</td>\n      <td>9</td>\n      <td>NaN</td>\n      <td>NaN</td>\n      <td>NaN</td>\n      <td>NaN</td>\n      <td>NaN</td>\n      <td>NaN</td>\n      <td>0.777778</td>\n    </tr>\n    <tr>\n      <th>11</th>\n      <td>8</td>\n      <td>9</td>\n      <td>NaN</td>\n      <td>NaN</td>\n      <td>NaN</td>\n      <td>NaN</td>\n      <td>NaN</td>\n      <td>NaN</td>\n      <td>0.888889</td>\n    </tr>\n    <tr>\n      <th>12</th>\n      <td>8</td>\n      <td>9</td>\n      <td>NaN</td>\n      <td>NaN</td>\n      <td>NaN</td>\n      <td>NaN</td>\n      <td>NaN</td>\n      <td>NaN</td>\n      <td>0.888889</td>\n    </tr>\n    <tr>\n      <th>13</th>\n      <td>8</td>\n      <td>10</td>\n      <td>NaN</td>\n      <td>NaN</td>\n      <td>NaN</td>\n      <td>NaN</td>\n      <td>NaN</td>\n      <td>NaN</td>\n      <td>0.800000</td>\n    </tr>\n    <tr>\n      <th>14</th>\n      <td>8</td>\n      <td>11</td>\n      <td>NaN</td>\n      <td>NaN</td>\n      <td>NaN</td>\n      <td>NaN</td>\n      <td>NaN</td>\n      <td>NaN</td>\n      <td>0.727273</td>\n    </tr>\n    <tr>\n      <th>15</th>\n      <td>8</td>\n      <td>12</td>\n      <td>NaN</td>\n      <td>NaN</td>\n      <td>NaN</td>\n      <td>NaN</td>\n      <td>NaN</td>\n      <td>NaN</td>\n      <td>0.666667</td>\n    </tr>\n  </tbody>\n</table>\n</div>"
     },
     "execution_count": 3,
     "metadata": {},
     "output_type": "execute_result"
    }
   ],
   "source": [
    "data"
   ],
   "metadata": {
    "collapsed": false,
    "pycharm": {
     "name": "#%%\n"
    }
   }
  },
  {
   "cell_type": "code",
   "execution_count": 4,
   "outputs": [],
   "source": [
    "lammda = data['lamda']\n",
    "miiu = data['miu']\n",
    "roow = data['row']"
   ],
   "metadata": {
    "collapsed": false,
    "pycharm": {
     "name": "#%%\n"
    }
   }
  },
  {
   "cell_type": "code",
   "execution_count": 5,
   "outputs": [],
   "source": [
    "p = []\n",
    "lq =[]\n",
    "ls = []\n",
    "wq = []\n",
    "ws = []\n",
    "lam_k = []\n",
    "n= 10\n",
    "for i in range(0,len(lammda)):\n",
    "    lamda = lammda[i]\n",
    "    miu = miiu[i]\n",
    "    row = lammda[i]/miiu[i]\n",
    "\n",
    "    p_val = (1- row)/(1-(row**(n+1)))\n",
    "    p.append(p_val)\n",
    "\n",
    "    # determining ls\n",
    "\n",
    "    lls1= (row/((1-row)*(1-(row** (n+1)))))\n",
    "    lls2 =1+(n*(row**(n+1)))-((n+1)*(row**n))\n",
    "\n",
    "    lls =lls1*lls2\n",
    "    ls.append(lls)\n",
    "\n",
    "    # determining effective arrival rate\n",
    "    p_n = (row**n)*p_val\n",
    "    p_joining = 1-p_n\n",
    "\n",
    "    lamda_k = lamda*p_joining\n",
    "    lam_k.append(lamda_k)\n",
    "\n",
    "\n",
    "    # determining lq\n",
    "    lqq = lls-(lamda_k/miu)\n",
    "    lq.append(lqq)\n",
    "\n",
    "    # determining Wq\n",
    "    wqq = (lqq/lamda_k)*60\n",
    "    wq.append(wqq)\n",
    "    # determining Ws\n",
    "    wss = (lls/lamda_k)*60\n",
    "    ws.append(wss)"
   ],
   "metadata": {
    "collapsed": false,
    "pycharm": {
     "name": "#%%\n"
    }
   }
  },
  {
   "cell_type": "code",
   "execution_count": 9,
   "outputs": [],
   "source": [
    "data['P0'] = p\n",
    "data['Lq'] = lq\n",
    "data['Ls'] = ls\n",
    "data['lamda k'] = lam_k\n",
    "data['Wq'] = wq\n",
    "data['Ws'] = ws"
   ],
   "metadata": {
    "collapsed": false,
    "pycharm": {
     "name": "#%%\n"
    }
   }
  },
  {
   "cell_type": "code",
   "execution_count": 10,
   "outputs": [
    {
     "data": {
      "text/plain": "    lamda  miu        P0        Ls    lamda k        Lq         Ws         Wq  \\\n0       8    9  0.152989  3.854120   7.623102  3.007108  30.335050  23.668383   \n1       9   10  0.145732  3.969441   8.542676  3.115173  27.879604  21.879604   \n2      10   11  0.139966  4.064054   9.460369  3.204021  25.775239  20.320694   \n3      11   12  0.135280  4.142995  10.376636  3.278276  23.955714  18.955714   \n4       8    9  0.152989  3.854120   7.623102  3.007108  30.335050  23.668383   \n5       7    8  0.162378  3.710739   6.700976  2.873117  33.225656  25.725656   \n6       6    7  0.174958  3.528217   5.775292  2.703175  36.654940  28.083512   \n7       5    6  0.192586  3.289291   4.844481  2.481878  40.738622  30.738622   \n8       5    9  0.445137  1.232858   4.993766  0.677995  14.812759   8.146092   \n9       6    9  0.337232  1.871341   5.964911  1.208573  18.823496  12.156829   \n10      7    9  0.237166  2.760278   6.865505  1.997444  24.123013  17.456346   \n11      8    9  0.152989  3.854120   7.623102  3.007108  30.335050  23.668383   \n12      8    9  0.152989  3.854120   7.623102  3.007108  30.335050  23.668383   \n13      8   10  0.218794  2.966314   7.812057  2.185109  22.782585  16.782585   \n14      8   11  0.281193  2.325207   7.906875  1.606400  17.644446  12.189901   \n15      8   12  0.337232  1.871341   7.953215  1.208573  14.117622   9.117622   \n\n         row  \n0   0.888889  \n1   0.900000  \n2   0.909091  \n3   0.916667  \n4   0.888889  \n5   0.875000  \n6   0.857143  \n7   0.833333  \n8   0.555556  \n9   0.666667  \n10  0.777778  \n11  0.888889  \n12  0.888889  \n13  0.800000  \n14  0.727273  \n15  0.666667  ",
      "text/html": "<div>\n<style scoped>\n    .dataframe tbody tr th:only-of-type {\n        vertical-align: middle;\n    }\n\n    .dataframe tbody tr th {\n        vertical-align: top;\n    }\n\n    .dataframe thead th {\n        text-align: right;\n    }\n</style>\n<table border=\"1\" class=\"dataframe\">\n  <thead>\n    <tr style=\"text-align: right;\">\n      <th></th>\n      <th>lamda</th>\n      <th>miu</th>\n      <th>P0</th>\n      <th>Ls</th>\n      <th>lamda k</th>\n      <th>Lq</th>\n      <th>Ws</th>\n      <th>Wq</th>\n      <th>row</th>\n    </tr>\n  </thead>\n  <tbody>\n    <tr>\n      <th>0</th>\n      <td>8</td>\n      <td>9</td>\n      <td>0.152989</td>\n      <td>3.854120</td>\n      <td>7.623102</td>\n      <td>3.007108</td>\n      <td>30.335050</td>\n      <td>23.668383</td>\n      <td>0.888889</td>\n    </tr>\n    <tr>\n      <th>1</th>\n      <td>9</td>\n      <td>10</td>\n      <td>0.145732</td>\n      <td>3.969441</td>\n      <td>8.542676</td>\n      <td>3.115173</td>\n      <td>27.879604</td>\n      <td>21.879604</td>\n      <td>0.900000</td>\n    </tr>\n    <tr>\n      <th>2</th>\n      <td>10</td>\n      <td>11</td>\n      <td>0.139966</td>\n      <td>4.064054</td>\n      <td>9.460369</td>\n      <td>3.204021</td>\n      <td>25.775239</td>\n      <td>20.320694</td>\n      <td>0.909091</td>\n    </tr>\n    <tr>\n      <th>3</th>\n      <td>11</td>\n      <td>12</td>\n      <td>0.135280</td>\n      <td>4.142995</td>\n      <td>10.376636</td>\n      <td>3.278276</td>\n      <td>23.955714</td>\n      <td>18.955714</td>\n      <td>0.916667</td>\n    </tr>\n    <tr>\n      <th>4</th>\n      <td>8</td>\n      <td>9</td>\n      <td>0.152989</td>\n      <td>3.854120</td>\n      <td>7.623102</td>\n      <td>3.007108</td>\n      <td>30.335050</td>\n      <td>23.668383</td>\n      <td>0.888889</td>\n    </tr>\n    <tr>\n      <th>5</th>\n      <td>7</td>\n      <td>8</td>\n      <td>0.162378</td>\n      <td>3.710739</td>\n      <td>6.700976</td>\n      <td>2.873117</td>\n      <td>33.225656</td>\n      <td>25.725656</td>\n      <td>0.875000</td>\n    </tr>\n    <tr>\n      <th>6</th>\n      <td>6</td>\n      <td>7</td>\n      <td>0.174958</td>\n      <td>3.528217</td>\n      <td>5.775292</td>\n      <td>2.703175</td>\n      <td>36.654940</td>\n      <td>28.083512</td>\n      <td>0.857143</td>\n    </tr>\n    <tr>\n      <th>7</th>\n      <td>5</td>\n      <td>6</td>\n      <td>0.192586</td>\n      <td>3.289291</td>\n      <td>4.844481</td>\n      <td>2.481878</td>\n      <td>40.738622</td>\n      <td>30.738622</td>\n      <td>0.833333</td>\n    </tr>\n    <tr>\n      <th>8</th>\n      <td>5</td>\n      <td>9</td>\n      <td>0.445137</td>\n      <td>1.232858</td>\n      <td>4.993766</td>\n      <td>0.677995</td>\n      <td>14.812759</td>\n      <td>8.146092</td>\n      <td>0.555556</td>\n    </tr>\n    <tr>\n      <th>9</th>\n      <td>6</td>\n      <td>9</td>\n      <td>0.337232</td>\n      <td>1.871341</td>\n      <td>5.964911</td>\n      <td>1.208573</td>\n      <td>18.823496</td>\n      <td>12.156829</td>\n      <td>0.666667</td>\n    </tr>\n    <tr>\n      <th>10</th>\n      <td>7</td>\n      <td>9</td>\n      <td>0.237166</td>\n      <td>2.760278</td>\n      <td>6.865505</td>\n      <td>1.997444</td>\n      <td>24.123013</td>\n      <td>17.456346</td>\n      <td>0.777778</td>\n    </tr>\n    <tr>\n      <th>11</th>\n      <td>8</td>\n      <td>9</td>\n      <td>0.152989</td>\n      <td>3.854120</td>\n      <td>7.623102</td>\n      <td>3.007108</td>\n      <td>30.335050</td>\n      <td>23.668383</td>\n      <td>0.888889</td>\n    </tr>\n    <tr>\n      <th>12</th>\n      <td>8</td>\n      <td>9</td>\n      <td>0.152989</td>\n      <td>3.854120</td>\n      <td>7.623102</td>\n      <td>3.007108</td>\n      <td>30.335050</td>\n      <td>23.668383</td>\n      <td>0.888889</td>\n    </tr>\n    <tr>\n      <th>13</th>\n      <td>8</td>\n      <td>10</td>\n      <td>0.218794</td>\n      <td>2.966314</td>\n      <td>7.812057</td>\n      <td>2.185109</td>\n      <td>22.782585</td>\n      <td>16.782585</td>\n      <td>0.800000</td>\n    </tr>\n    <tr>\n      <th>14</th>\n      <td>8</td>\n      <td>11</td>\n      <td>0.281193</td>\n      <td>2.325207</td>\n      <td>7.906875</td>\n      <td>1.606400</td>\n      <td>17.644446</td>\n      <td>12.189901</td>\n      <td>0.727273</td>\n    </tr>\n    <tr>\n      <th>15</th>\n      <td>8</td>\n      <td>12</td>\n      <td>0.337232</td>\n      <td>1.871341</td>\n      <td>7.953215</td>\n      <td>1.208573</td>\n      <td>14.117622</td>\n      <td>9.117622</td>\n      <td>0.666667</td>\n    </tr>\n  </tbody>\n</table>\n</div>"
     },
     "execution_count": 10,
     "metadata": {},
     "output_type": "execute_result"
    }
   ],
   "source": [
    "data"
   ],
   "metadata": {
    "collapsed": false,
    "pycharm": {
     "name": "#%%\n"
    }
   }
  },
  {
   "cell_type": "code",
   "execution_count": 11,
   "outputs": [],
   "source": [
    "data.to_excel(\"Single Server Finite Queue Length Infinite Queue Population Model Output.xlsx\")"
   ],
   "metadata": {
    "collapsed": false,
    "pycharm": {
     "name": "#%%\n"
    }
   }
  },
  {
   "cell_type": "code",
   "execution_count": 12,
   "outputs": [
    {
     "data": {
      "text/plain": "    lamda  miu        P0        Ls    lamda k        Lq         Ws         Wq  \\\n0       8    9  0.152989  3.854120   7.623102  3.007108  30.335050  23.668383   \n1       9   10  0.145732  3.969441   8.542676  3.115173  27.879604  21.879604   \n2      10   11  0.139966  4.064054   9.460369  3.204021  25.775239  20.320694   \n3      11   12  0.135280  4.142995  10.376636  3.278276  23.955714  18.955714   \n4       8    9  0.152989  3.854120   7.623102  3.007108  30.335050  23.668383   \n5       7    8  0.162378  3.710739   6.700976  2.873117  33.225656  25.725656   \n6       6    7  0.174958  3.528217   5.775292  2.703175  36.654940  28.083512   \n7       5    6  0.192586  3.289291   4.844481  2.481878  40.738622  30.738622   \n8       5    9  0.445137  1.232858   4.993766  0.677995  14.812759   8.146092   \n9       6    9  0.337232  1.871341   5.964911  1.208573  18.823496  12.156829   \n10      7    9  0.237166  2.760278   6.865505  1.997444  24.123013  17.456346   \n11      8    9  0.152989  3.854120   7.623102  3.007108  30.335050  23.668383   \n12      8    9  0.152989  3.854120   7.623102  3.007108  30.335050  23.668383   \n13      8   10  0.218794  2.966314   7.812057  2.185109  22.782585  16.782585   \n14      8   11  0.281193  2.325207   7.906875  1.606400  17.644446  12.189901   \n15      8   12  0.337232  1.871341   7.953215  1.208573  14.117622   9.117622   \n\n         row  \n0   0.888889  \n1   0.900000  \n2   0.909091  \n3   0.916667  \n4   0.888889  \n5   0.875000  \n6   0.857143  \n7   0.833333  \n8   0.555556  \n9   0.666667  \n10  0.777778  \n11  0.888889  \n12  0.888889  \n13  0.800000  \n14  0.727273  \n15  0.666667  ",
      "text/html": "<div>\n<style scoped>\n    .dataframe tbody tr th:only-of-type {\n        vertical-align: middle;\n    }\n\n    .dataframe tbody tr th {\n        vertical-align: top;\n    }\n\n    .dataframe thead th {\n        text-align: right;\n    }\n</style>\n<table border=\"1\" class=\"dataframe\">\n  <thead>\n    <tr style=\"text-align: right;\">\n      <th></th>\n      <th>lamda</th>\n      <th>miu</th>\n      <th>P0</th>\n      <th>Ls</th>\n      <th>lamda k</th>\n      <th>Lq</th>\n      <th>Ws</th>\n      <th>Wq</th>\n      <th>row</th>\n    </tr>\n  </thead>\n  <tbody>\n    <tr>\n      <th>0</th>\n      <td>8</td>\n      <td>9</td>\n      <td>0.152989</td>\n      <td>3.854120</td>\n      <td>7.623102</td>\n      <td>3.007108</td>\n      <td>30.335050</td>\n      <td>23.668383</td>\n      <td>0.888889</td>\n    </tr>\n    <tr>\n      <th>1</th>\n      <td>9</td>\n      <td>10</td>\n      <td>0.145732</td>\n      <td>3.969441</td>\n      <td>8.542676</td>\n      <td>3.115173</td>\n      <td>27.879604</td>\n      <td>21.879604</td>\n      <td>0.900000</td>\n    </tr>\n    <tr>\n      <th>2</th>\n      <td>10</td>\n      <td>11</td>\n      <td>0.139966</td>\n      <td>4.064054</td>\n      <td>9.460369</td>\n      <td>3.204021</td>\n      <td>25.775239</td>\n      <td>20.320694</td>\n      <td>0.909091</td>\n    </tr>\n    <tr>\n      <th>3</th>\n      <td>11</td>\n      <td>12</td>\n      <td>0.135280</td>\n      <td>4.142995</td>\n      <td>10.376636</td>\n      <td>3.278276</td>\n      <td>23.955714</td>\n      <td>18.955714</td>\n      <td>0.916667</td>\n    </tr>\n    <tr>\n      <th>4</th>\n      <td>8</td>\n      <td>9</td>\n      <td>0.152989</td>\n      <td>3.854120</td>\n      <td>7.623102</td>\n      <td>3.007108</td>\n      <td>30.335050</td>\n      <td>23.668383</td>\n      <td>0.888889</td>\n    </tr>\n    <tr>\n      <th>5</th>\n      <td>7</td>\n      <td>8</td>\n      <td>0.162378</td>\n      <td>3.710739</td>\n      <td>6.700976</td>\n      <td>2.873117</td>\n      <td>33.225656</td>\n      <td>25.725656</td>\n      <td>0.875000</td>\n    </tr>\n    <tr>\n      <th>6</th>\n      <td>6</td>\n      <td>7</td>\n      <td>0.174958</td>\n      <td>3.528217</td>\n      <td>5.775292</td>\n      <td>2.703175</td>\n      <td>36.654940</td>\n      <td>28.083512</td>\n      <td>0.857143</td>\n    </tr>\n    <tr>\n      <th>7</th>\n      <td>5</td>\n      <td>6</td>\n      <td>0.192586</td>\n      <td>3.289291</td>\n      <td>4.844481</td>\n      <td>2.481878</td>\n      <td>40.738622</td>\n      <td>30.738622</td>\n      <td>0.833333</td>\n    </tr>\n    <tr>\n      <th>8</th>\n      <td>5</td>\n      <td>9</td>\n      <td>0.445137</td>\n      <td>1.232858</td>\n      <td>4.993766</td>\n      <td>0.677995</td>\n      <td>14.812759</td>\n      <td>8.146092</td>\n      <td>0.555556</td>\n    </tr>\n    <tr>\n      <th>9</th>\n      <td>6</td>\n      <td>9</td>\n      <td>0.337232</td>\n      <td>1.871341</td>\n      <td>5.964911</td>\n      <td>1.208573</td>\n      <td>18.823496</td>\n      <td>12.156829</td>\n      <td>0.666667</td>\n    </tr>\n    <tr>\n      <th>10</th>\n      <td>7</td>\n      <td>9</td>\n      <td>0.237166</td>\n      <td>2.760278</td>\n      <td>6.865505</td>\n      <td>1.997444</td>\n      <td>24.123013</td>\n      <td>17.456346</td>\n      <td>0.777778</td>\n    </tr>\n    <tr>\n      <th>11</th>\n      <td>8</td>\n      <td>9</td>\n      <td>0.152989</td>\n      <td>3.854120</td>\n      <td>7.623102</td>\n      <td>3.007108</td>\n      <td>30.335050</td>\n      <td>23.668383</td>\n      <td>0.888889</td>\n    </tr>\n    <tr>\n      <th>12</th>\n      <td>8</td>\n      <td>9</td>\n      <td>0.152989</td>\n      <td>3.854120</td>\n      <td>7.623102</td>\n      <td>3.007108</td>\n      <td>30.335050</td>\n      <td>23.668383</td>\n      <td>0.888889</td>\n    </tr>\n    <tr>\n      <th>13</th>\n      <td>8</td>\n      <td>10</td>\n      <td>0.218794</td>\n      <td>2.966314</td>\n      <td>7.812057</td>\n      <td>2.185109</td>\n      <td>22.782585</td>\n      <td>16.782585</td>\n      <td>0.800000</td>\n    </tr>\n    <tr>\n      <th>14</th>\n      <td>8</td>\n      <td>11</td>\n      <td>0.281193</td>\n      <td>2.325207</td>\n      <td>7.906875</td>\n      <td>1.606400</td>\n      <td>17.644446</td>\n      <td>12.189901</td>\n      <td>0.727273</td>\n    </tr>\n    <tr>\n      <th>15</th>\n      <td>8</td>\n      <td>12</td>\n      <td>0.337232</td>\n      <td>1.871341</td>\n      <td>7.953215</td>\n      <td>1.208573</td>\n      <td>14.117622</td>\n      <td>9.117622</td>\n      <td>0.666667</td>\n    </tr>\n  </tbody>\n</table>\n</div>"
     },
     "execution_count": 12,
     "metadata": {},
     "output_type": "execute_result"
    }
   ],
   "source": [
    "data"
   ],
   "metadata": {
    "collapsed": false,
    "pycharm": {
     "name": "#%%\n"
    }
   }
  },
  {
   "cell_type": "code",
   "execution_count": null,
   "outputs": [],
   "source": [],
   "metadata": {
    "collapsed": false,
    "pycharm": {
     "name": "#%%\n"
    }
   }
  }
 ],
 "metadata": {
  "kernelspec": {
   "display_name": "Python 3",
   "language": "python",
   "name": "python3"
  },
  "language_info": {
   "codemirror_mode": {
    "name": "ipython",
    "version": 2
   },
   "file_extension": ".py",
   "mimetype": "text/x-python",
   "name": "python",
   "nbconvert_exporter": "python",
   "pygments_lexer": "ipython2",
   "version": "2.7.6"
  }
 },
 "nbformat": 4,
 "nbformat_minor": 0
}